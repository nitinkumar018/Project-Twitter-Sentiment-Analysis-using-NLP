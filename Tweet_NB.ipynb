{
 "cells": [
  {
   "cell_type": "code",
   "execution_count": 1,
   "id": "7445211d",
   "metadata": {},
   "outputs": [],
   "source": [
    "import pandas as pd"
   ]
  },
  {
   "cell_type": "code",
   "execution_count": 2,
   "id": "99f27b78",
   "metadata": {},
   "outputs": [],
   "source": [
    "data = pd.read_csv(r'Tweets_analysis.csv', header=0)  # load dataset"
   ]
  },
  {
   "cell_type": "code",
   "execution_count": 3,
   "id": "0761d2cd",
   "metadata": {},
   "outputs": [
    {
     "data": {
      "text/html": [
       "<div>\n",
       "<style scoped>\n",
       "    .dataframe tbody tr th:only-of-type {\n",
       "        vertical-align: middle;\n",
       "    }\n",
       "\n",
       "    .dataframe tbody tr th {\n",
       "        vertical-align: top;\n",
       "    }\n",
       "\n",
       "    .dataframe thead th {\n",
       "        text-align: right;\n",
       "    }\n",
       "</style>\n",
       "<table border=\"1\" class=\"dataframe\">\n",
       "  <thead>\n",
       "    <tr style=\"text-align: right;\">\n",
       "      <th></th>\n",
       "      <th>sentiment</th>\n",
       "      <th>text</th>\n",
       "    </tr>\n",
       "  </thead>\n",
       "  <tbody>\n",
       "    <tr>\n",
       "      <th>0</th>\n",
       "      <td>neutral</td>\n",
       "      <td>@VirginAmerica What @dhepburn said.</td>\n",
       "    </tr>\n",
       "    <tr>\n",
       "      <th>1</th>\n",
       "      <td>positive</td>\n",
       "      <td>@VirginAmerica plus you've added commercials t...</td>\n",
       "    </tr>\n",
       "    <tr>\n",
       "      <th>2</th>\n",
       "      <td>neutral</td>\n",
       "      <td>@VirginAmerica I didn't today... Must mean I n...</td>\n",
       "    </tr>\n",
       "    <tr>\n",
       "      <th>3</th>\n",
       "      <td>negative</td>\n",
       "      <td>@VirginAmerica it's really aggressive to blast...</td>\n",
       "    </tr>\n",
       "    <tr>\n",
       "      <th>4</th>\n",
       "      <td>negative</td>\n",
       "      <td>@VirginAmerica and it's a really big bad thing...</td>\n",
       "    </tr>\n",
       "  </tbody>\n",
       "</table>\n",
       "</div>"
      ],
      "text/plain": [
       "  sentiment                                               text\n",
       "0   neutral                @VirginAmerica What @dhepburn said.\n",
       "1  positive  @VirginAmerica plus you've added commercials t...\n",
       "2   neutral  @VirginAmerica I didn't today... Must mean I n...\n",
       "3  negative  @VirginAmerica it's really aggressive to blast...\n",
       "4  negative  @VirginAmerica and it's a really big bad thing..."
      ]
     },
     "execution_count": 3,
     "metadata": {},
     "output_type": "execute_result"
    }
   ],
   "source": [
    "data.head() # display top 5 rows"
   ]
  },
  {
   "cell_type": "code",
   "execution_count": 4,
   "id": "a412fef8",
   "metadata": {},
   "outputs": [
    {
     "name": "stdout",
     "output_type": "stream",
     "text": [
      "<class 'pandas.core.frame.DataFrame'>\n",
      "RangeIndex: 14640 entries, 0 to 14639\n",
      "Data columns (total 2 columns):\n",
      " #   Column     Non-Null Count  Dtype \n",
      "---  ------     --------------  ----- \n",
      " 0   sentiment  14640 non-null  object\n",
      " 1   text       14640 non-null  object\n",
      "dtypes: object(2)\n",
      "memory usage: 228.9+ KB\n"
     ]
    }
   ],
   "source": [
    "data.info() # gives info about null values and data type of each column"
   ]
  },
  {
   "cell_type": "code",
   "execution_count": 5,
   "id": "6c390500",
   "metadata": {},
   "outputs": [
    {
     "data": {
      "text/plain": [
       "sentiment    0\n",
       "text         0\n",
       "dtype: int64"
      ]
     },
     "execution_count": 5,
     "metadata": {},
     "output_type": "execute_result"
    }
   ],
   "source": [
    "data.isnull().sum()  # there is no null value "
   ]
  },
  {
   "cell_type": "code",
   "execution_count": 6,
   "id": "2cfb01ba",
   "metadata": {},
   "outputs": [
    {
     "data": {
      "text/plain": [
       "sentiment    object\n",
       "text         object\n",
       "dtype: object"
      ]
     },
     "execution_count": 6,
     "metadata": {},
     "output_type": "execute_result"
    }
   ],
   "source": [
    "data.dtypes # data type in each column"
   ]
  },
  {
   "cell_type": "code",
   "execution_count": 7,
   "id": "0efe7026",
   "metadata": {},
   "outputs": [
    {
     "data": {
      "text/plain": [
       "(14640, 2)"
      ]
     },
     "execution_count": 7,
     "metadata": {},
     "output_type": "execute_result"
    }
   ],
   "source": [
    "data.shape  # rows and columns"
   ]
  },
  {
   "cell_type": "markdown",
   "id": "fabfde7c",
   "metadata": {},
   "source": [
    "convert the labels('positive','negative','neutral') into numbers using LabelEncoding"
   ]
  },
  {
   "cell_type": "code",
   "execution_count": 8,
   "id": "facd9433",
   "metadata": {},
   "outputs": [
    {
     "name": "stdout",
     "output_type": "stream",
     "text": [
      "Feature sentiment\n",
      "mapping {'negative': 0, 'neutral': 1, 'positive': 2}\n"
     ]
    }
   ],
   "source": [
    "colname = ['sentiment'] # list having only categorical columns\n",
    "\n",
    "from sklearn.preprocessing import LabelEncoder # import LabelEncoder function from preprocessing sublibrary\n",
    "le=LabelEncoder()                              # save LabelEncoder function in a variable le\n",
    "for x in colname:                             \n",
    "    data[x]=le.fit_transform(data[x]) # it assigns numbers to all values of categorical column\n",
    "    le_name_mapping = dict(zip(le.classes_,le.transform(le.classes_)))  # represent in a dictionary\n",
    "    print('Feature',x)\n",
    "    print('mapping',le_name_mapping)"
   ]
  },
  {
   "cell_type": "code",
   "execution_count": 9,
   "id": "6cb3e61d",
   "metadata": {},
   "outputs": [
    {
     "data": {
      "text/html": [
       "<div>\n",
       "<style scoped>\n",
       "    .dataframe tbody tr th:only-of-type {\n",
       "        vertical-align: middle;\n",
       "    }\n",
       "\n",
       "    .dataframe tbody tr th {\n",
       "        vertical-align: top;\n",
       "    }\n",
       "\n",
       "    .dataframe thead th {\n",
       "        text-align: right;\n",
       "    }\n",
       "</style>\n",
       "<table border=\"1\" class=\"dataframe\">\n",
       "  <thead>\n",
       "    <tr style=\"text-align: right;\">\n",
       "      <th></th>\n",
       "      <th>sentiment</th>\n",
       "      <th>text</th>\n",
       "    </tr>\n",
       "  </thead>\n",
       "  <tbody>\n",
       "    <tr>\n",
       "      <th>0</th>\n",
       "      <td>1</td>\n",
       "      <td>@VirginAmerica What @dhepburn said.</td>\n",
       "    </tr>\n",
       "    <tr>\n",
       "      <th>1</th>\n",
       "      <td>2</td>\n",
       "      <td>@VirginAmerica plus you've added commercials t...</td>\n",
       "    </tr>\n",
       "    <tr>\n",
       "      <th>2</th>\n",
       "      <td>1</td>\n",
       "      <td>@VirginAmerica I didn't today... Must mean I n...</td>\n",
       "    </tr>\n",
       "    <tr>\n",
       "      <th>3</th>\n",
       "      <td>0</td>\n",
       "      <td>@VirginAmerica it's really aggressive to blast...</td>\n",
       "    </tr>\n",
       "    <tr>\n",
       "      <th>4</th>\n",
       "      <td>0</td>\n",
       "      <td>@VirginAmerica and it's a really big bad thing...</td>\n",
       "    </tr>\n",
       "  </tbody>\n",
       "</table>\n",
       "</div>"
      ],
      "text/plain": [
       "   sentiment                                               text\n",
       "0          1                @VirginAmerica What @dhepburn said.\n",
       "1          2  @VirginAmerica plus you've added commercials t...\n",
       "2          1  @VirginAmerica I didn't today... Must mean I n...\n",
       "3          0  @VirginAmerica it's really aggressive to blast...\n",
       "4          0  @VirginAmerica and it's a really big bad thing..."
      ]
     },
     "execution_count": 9,
     "metadata": {},
     "output_type": "execute_result"
    }
   ],
   "source": [
    "data.head()"
   ]
  },
  {
   "cell_type": "code",
   "execution_count": 10,
   "id": "4d8f3a41",
   "metadata": {},
   "outputs": [
    {
     "data": {
      "text/plain": [
       "0    9178\n",
       "1    3099\n",
       "2    2363\n",
       "Name: sentiment, dtype: int64"
      ]
     },
     "execution_count": 10,
     "metadata": {},
     "output_type": "execute_result"
    }
   ],
   "source": [
    "#sentiment count: \n",
    "data['sentiment'].value_counts() "
   ]
  },
  {
   "cell_type": "markdown",
   "id": "28f39540",
   "metadata": {},
   "source": [
    "We can balance our dataset if the accuracy of our model on testing data is not good"
   ]
  },
  {
   "cell_type": "code",
   "execution_count": 11,
   "id": "6dfa8f2a",
   "metadata": {},
   "outputs": [
    {
     "data": {
      "text/plain": [
       "0                      @VirginAmerica What @dhepburn said.\n",
       "1        @VirginAmerica plus you've added commercials t...\n",
       "2        @VirginAmerica I didn't today... Must mean I n...\n",
       "3        @VirginAmerica it's really aggressive to blast...\n",
       "4        @VirginAmerica and it's a really big bad thing...\n",
       "                               ...                        \n",
       "14635    @AmericanAir thank you we got on a different f...\n",
       "14636    @AmericanAir leaving over 20 minutes Late Flig...\n",
       "14637    @AmericanAir Please bring American Airlines to...\n",
       "14638    @AmericanAir you have my money, you change my ...\n",
       "14639    @AmericanAir we have 8 ppl so we need 2 know h...\n",
       "Name: text, Length: 14640, dtype: object"
      ]
     },
     "execution_count": 11,
     "metadata": {},
     "output_type": "execute_result"
    }
   ],
   "source": [
    "data['text']"
   ]
  },
  {
   "cell_type": "markdown",
   "id": "ea02f43a",
   "metadata": {},
   "source": [
    " Let's remove the non-alphanumeric characters i.e. special characters (like @, #, $ etc.) from the dataset using regex function "
   ]
  },
  {
   "cell_type": "code",
   "execution_count": 12,
   "id": "4395a719",
   "metadata": {},
   "outputs": [],
   "source": [
    "import re # regex function"
   ]
  },
  {
   "cell_type": "code",
   "execution_count": 13,
   "id": "5fe4f29a",
   "metadata": {},
   "outputs": [],
   "source": [
    "def remove_tags(string):\n",
    "    result = re.sub('','',string)          #remove HTML tags \n",
    "    result = re.sub('https://.*','',result)   #remove URLs\n",
    "    result = re.sub(\"(@[A-Za-z0-9]+)|([^0-9A-Za-z \\t])|(\\w+:\\/\\/\\S+)\", \" \", result) # remove special characters in result & replace them with a blank space\n",
    "    result = result.lower()  # convert text to lowercase\n",
    "    return result # after execution of return statement, interpreter will come out of the function and go to the location where the func. is called\n",
    "\n",
    "data['text']=data['text'].apply(lambda cw : remove_tags(cw)) # apply func used to apply lambda func to a dataframe, remove_tags()func is called & cw will copy over string "
   ]
  },
  {
   "cell_type": "code",
   "execution_count": 14,
   "id": "6197a708",
   "metadata": {},
   "outputs": [
    {
     "data": {
      "text/plain": [
       "0                                             what   said \n",
       "1          plus you ve added commercials to the experie...\n",
       "2          i didn t today    must mean i need to take a...\n",
       "3          it s really aggressive to blast obnoxious  e...\n",
       "4                 and it s a really big bad thing about it\n",
       "                               ...                        \n",
       "14635      thank you we got on a different flight to ch...\n",
       "14636      leaving over 20 minutes late flight  no warn...\n",
       "14637      please bring american airlines to  blackberry10\n",
       "14638      you have my money  you change my flight  and...\n",
       "14639      we have 8 ppl so we need 2 know how many sea...\n",
       "Name: text, Length: 14640, dtype: object"
      ]
     },
     "execution_count": 14,
     "metadata": {},
     "output_type": "execute_result"
    }
   ],
   "source": [
    "data['text']   # we can see now text column doesn't have special characters "
   ]
  },
  {
   "cell_type": "markdown",
   "id": "6f132c66",
   "metadata": {},
   "source": [
    "Now, remove stop words . Stop words don't hold any special meaning in a sentence like 'and', 'the' etc. So, we should remove them using nltk library which has stop words list "
   ]
  },
  {
   "cell_type": "code",
   "execution_count": 15,
   "id": "92ee4ebd",
   "metadata": {},
   "outputs": [
    {
     "name": "stderr",
     "output_type": "stream",
     "text": [
      "[nltk_data] Downloading package stopwords to\n",
      "[nltk_data]     C:\\Users\\nitin\\AppData\\Roaming\\nltk_data...\n",
      "[nltk_data]   Package stopwords is already up-to-date!\n"
     ]
    }
   ],
   "source": [
    "import nltk  # nltk lib. (Natural Language Toolkit)\n",
    "nltk.download('stopwords') # download stopwords package to sublib. corpus \n",
    "from nltk.corpus import stopwords # import stopwords func. from sublib. corpus \n",
    "stop_words = set(stopwords.words('english')) # list of stop words in english "
   ]
  },
  {
   "cell_type": "code",
   "execution_count": 16,
   "id": "996f28a4",
   "metadata": {},
   "outputs": [
    {
     "data": {
      "text/plain": [
       "{'a',\n",
       " 'about',\n",
       " 'above',\n",
       " 'after',\n",
       " 'again',\n",
       " 'against',\n",
       " 'ain',\n",
       " 'all',\n",
       " 'am',\n",
       " 'an',\n",
       " 'and',\n",
       " 'any',\n",
       " 'are',\n",
       " 'aren',\n",
       " \"aren't\",\n",
       " 'as',\n",
       " 'at',\n",
       " 'be',\n",
       " 'because',\n",
       " 'been',\n",
       " 'before',\n",
       " 'being',\n",
       " 'below',\n",
       " 'between',\n",
       " 'both',\n",
       " 'but',\n",
       " 'by',\n",
       " 'can',\n",
       " 'couldn',\n",
       " \"couldn't\",\n",
       " 'd',\n",
       " 'did',\n",
       " 'didn',\n",
       " \"didn't\",\n",
       " 'do',\n",
       " 'does',\n",
       " 'doesn',\n",
       " \"doesn't\",\n",
       " 'doing',\n",
       " 'don',\n",
       " \"don't\",\n",
       " 'down',\n",
       " 'during',\n",
       " 'each',\n",
       " 'few',\n",
       " 'for',\n",
       " 'from',\n",
       " 'further',\n",
       " 'had',\n",
       " 'hadn',\n",
       " \"hadn't\",\n",
       " 'has',\n",
       " 'hasn',\n",
       " \"hasn't\",\n",
       " 'have',\n",
       " 'haven',\n",
       " \"haven't\",\n",
       " 'having',\n",
       " 'he',\n",
       " 'her',\n",
       " 'here',\n",
       " 'hers',\n",
       " 'herself',\n",
       " 'him',\n",
       " 'himself',\n",
       " 'his',\n",
       " 'how',\n",
       " 'i',\n",
       " 'if',\n",
       " 'in',\n",
       " 'into',\n",
       " 'is',\n",
       " 'isn',\n",
       " \"isn't\",\n",
       " 'it',\n",
       " \"it's\",\n",
       " 'its',\n",
       " 'itself',\n",
       " 'just',\n",
       " 'll',\n",
       " 'm',\n",
       " 'ma',\n",
       " 'me',\n",
       " 'mightn',\n",
       " \"mightn't\",\n",
       " 'more',\n",
       " 'most',\n",
       " 'mustn',\n",
       " \"mustn't\",\n",
       " 'my',\n",
       " 'myself',\n",
       " 'needn',\n",
       " \"needn't\",\n",
       " 'no',\n",
       " 'nor',\n",
       " 'not',\n",
       " 'now',\n",
       " 'o',\n",
       " 'of',\n",
       " 'off',\n",
       " 'on',\n",
       " 'once',\n",
       " 'only',\n",
       " 'or',\n",
       " 'other',\n",
       " 'our',\n",
       " 'ours',\n",
       " 'ourselves',\n",
       " 'out',\n",
       " 'over',\n",
       " 'own',\n",
       " 're',\n",
       " 's',\n",
       " 'same',\n",
       " 'shan',\n",
       " \"shan't\",\n",
       " 'she',\n",
       " \"she's\",\n",
       " 'should',\n",
       " \"should've\",\n",
       " 'shouldn',\n",
       " \"shouldn't\",\n",
       " 'so',\n",
       " 'some',\n",
       " 'such',\n",
       " 't',\n",
       " 'than',\n",
       " 'that',\n",
       " \"that'll\",\n",
       " 'the',\n",
       " 'their',\n",
       " 'theirs',\n",
       " 'them',\n",
       " 'themselves',\n",
       " 'then',\n",
       " 'there',\n",
       " 'these',\n",
       " 'they',\n",
       " 'this',\n",
       " 'those',\n",
       " 'through',\n",
       " 'to',\n",
       " 'too',\n",
       " 'under',\n",
       " 'until',\n",
       " 'up',\n",
       " 've',\n",
       " 'very',\n",
       " 'was',\n",
       " 'wasn',\n",
       " \"wasn't\",\n",
       " 'we',\n",
       " 'were',\n",
       " 'weren',\n",
       " \"weren't\",\n",
       " 'what',\n",
       " 'when',\n",
       " 'where',\n",
       " 'which',\n",
       " 'while',\n",
       " 'who',\n",
       " 'whom',\n",
       " 'why',\n",
       " 'will',\n",
       " 'with',\n",
       " 'won',\n",
       " \"won't\",\n",
       " 'wouldn',\n",
       " \"wouldn't\",\n",
       " 'y',\n",
       " 'you',\n",
       " \"you'd\",\n",
       " \"you'll\",\n",
       " \"you're\",\n",
       " \"you've\",\n",
       " 'your',\n",
       " 'yours',\n",
       " 'yourself',\n",
       " 'yourselves'}"
      ]
     },
     "execution_count": 16,
     "metadata": {},
     "output_type": "execute_result"
    }
   ],
   "source": [
    "stop_words # list of stop words in english "
   ]
  },
  {
   "cell_type": "code",
   "execution_count": 17,
   "id": "a83b62b2",
   "metadata": {},
   "outputs": [],
   "source": [
    "# remove stop words \n",
    "# join words in text column with a blank space if they are not in stopwords list \n",
    "data['text'] = data['text'].apply(lambda x: ' '.join([word for word in x.split() if word not in (stop_words)]))"
   ]
  },
  {
   "cell_type": "code",
   "execution_count": 18,
   "id": "b7439aa3",
   "metadata": {},
   "outputs": [
    {
     "data": {
      "text/plain": [
       "0                                                     said\n",
       "1                  plus added commercials experience tacky\n",
       "2                   today must mean need take another trip\n",
       "3        really aggressive blast obnoxious entertainmen...\n",
       "4                                     really big bad thing\n",
       "                               ...                        \n",
       "14635                   thank got different flight chicago\n",
       "14636    leaving 20 minutes late flight warnings commun...\n",
       "14637          please bring american airlines blackberry10\n",
       "14638    money change flight answer phones suggestions ...\n",
       "14639    8 ppl need 2 know many seats next flight plz p...\n",
       "Name: text, Length: 14640, dtype: object"
      ]
     },
     "execution_count": 18,
     "metadata": {},
     "output_type": "execute_result"
    }
   ],
   "source": [
    "data['text']  # now text column doesn't have stop words "
   ]
  },
  {
   "cell_type": "markdown",
   "id": "126034fa",
   "metadata": {},
   "source": [
    "Now, we perform lemmatization on the text column. Lemmatization is used to find the root form of words in NLP, for ex: root form of the words: reading, reads, read is read. This save unnecessary computational cost in decoding the entire words. \n",
    "\n",
    "In lemmatization, text convert into tokens/words and then each token convert into root form "
   ]
  },
  {
   "cell_type": "code",
   "execution_count": 19,
   "id": "7af9b661",
   "metadata": {},
   "outputs": [
    {
     "name": "stderr",
     "output_type": "stream",
     "text": [
      "[nltk_data] Downloading package wordnet to\n",
      "[nltk_data]     C:\\Users\\nitin\\AppData\\Roaming\\nltk_data...\n",
      "[nltk_data]   Package wordnet is already up-to-date!\n",
      "[nltk_data] Downloading package omw-1.4 to\n",
      "[nltk_data]     C:\\Users\\nitin\\AppData\\Roaming\\nltk_data...\n",
      "[nltk_data]   Package omw-1.4 is already up-to-date!\n"
     ]
    }
   ],
   "source": [
    "nltk.download('wordnet') # download package wordnet to sublib. stem\n",
    "nltk.download('omw-1.4') # download package omw-1.4 to sublib. tokenize \n",
    "w_tokenizer = nltk.tokenize.WhitespaceTokenizer() # save function in a variable \n",
    "lemmatizer = nltk.stem.WordNetLemmatizer()\n",
    "def lemmatize_text(sentence): # define a func and pass sentence in it \n",
    "    st = \"\"    # empty string \n",
    "    for w in w_tokenizer.tokenize(sentence):   # convert text into tokens using WhitespaceTokenizer() func saved in var. w_tokenizer \n",
    "        st = st + lemmatizer.lemmatize(w) + \" \"   # convert token into root form using WordNetLemmatizer() func saved in var. lemmatizer  \n",
    "    return st\n",
    "data['text'] = data['text'].apply(lemmatize_text) # func. is called, text copy over sentence "
   ]
  },
  {
   "cell_type": "code",
   "execution_count": 20,
   "id": "b692bea9",
   "metadata": {},
   "outputs": [
    {
     "data": {
      "text/plain": [
       "0                                                    said \n",
       "1                  plus added commercial experience tacky \n",
       "2                  today must mean need take another trip \n",
       "3        really aggressive blast obnoxious entertainmen...\n",
       "4                                    really big bad thing \n",
       "                               ...                        \n",
       "14635                  thank got different flight chicago \n",
       "14636    leaving 20 minute late flight warning communic...\n",
       "14637          please bring american airline blackberry10 \n",
       "14638    money change flight answer phone suggestion ma...\n",
       "14639    8 ppl need 2 know many seat next flight plz pu...\n",
       "Name: text, Length: 14640, dtype: object"
      ]
     },
     "execution_count": 20,
     "metadata": {},
     "output_type": "execute_result"
    }
   ],
   "source": [
    "data['text']  # we can see text column has root form of words "
   ]
  },
  {
   "cell_type": "code",
   "execution_count": 21,
   "id": "dd6a75de",
   "metadata": {},
   "outputs": [
    {
     "data": {
      "text/html": [
       "<div>\n",
       "<style scoped>\n",
       "    .dataframe tbody tr th:only-of-type {\n",
       "        vertical-align: middle;\n",
       "    }\n",
       "\n",
       "    .dataframe tbody tr th {\n",
       "        vertical-align: top;\n",
       "    }\n",
       "\n",
       "    .dataframe thead th {\n",
       "        text-align: right;\n",
       "    }\n",
       "</style>\n",
       "<table border=\"1\" class=\"dataframe\">\n",
       "  <thead>\n",
       "    <tr style=\"text-align: right;\">\n",
       "      <th></th>\n",
       "      <th>sentiment</th>\n",
       "      <th>text</th>\n",
       "    </tr>\n",
       "  </thead>\n",
       "  <tbody>\n",
       "    <tr>\n",
       "      <th>0</th>\n",
       "      <td>1</td>\n",
       "      <td>said</td>\n",
       "    </tr>\n",
       "    <tr>\n",
       "      <th>1</th>\n",
       "      <td>2</td>\n",
       "      <td>plus added commercial experience tacky</td>\n",
       "    </tr>\n",
       "    <tr>\n",
       "      <th>2</th>\n",
       "      <td>1</td>\n",
       "      <td>today must mean need take another trip</td>\n",
       "    </tr>\n",
       "    <tr>\n",
       "      <th>3</th>\n",
       "      <td>0</td>\n",
       "      <td>really aggressive blast obnoxious entertainmen...</td>\n",
       "    </tr>\n",
       "    <tr>\n",
       "      <th>4</th>\n",
       "      <td>0</td>\n",
       "      <td>really big bad thing</td>\n",
       "    </tr>\n",
       "  </tbody>\n",
       "</table>\n",
       "</div>"
      ],
      "text/plain": [
       "   sentiment                                               text\n",
       "0          1                                              said \n",
       "1          2            plus added commercial experience tacky \n",
       "2          1            today must mean need take another trip \n",
       "3          0  really aggressive blast obnoxious entertainmen...\n",
       "4          0                              really big bad thing "
      ]
     },
     "execution_count": 21,
     "metadata": {},
     "output_type": "execute_result"
    }
   ],
   "source": [
    "data.head()"
   ]
  },
  {
   "cell_type": "code",
   "execution_count": 22,
   "id": "938bb4e9",
   "metadata": {},
   "outputs": [],
   "source": [
    "# define X and Y\n",
    "X = data['text']\n",
    "Y = data['sentiment']"
   ]
  },
  {
   "cell_type": "code",
   "execution_count": 23,
   "id": "1835fa96",
   "metadata": {},
   "outputs": [
    {
     "data": {
      "text/plain": [
       "0                                                    said \n",
       "1                  plus added commercial experience tacky \n",
       "2                  today must mean need take another trip \n",
       "3        really aggressive blast obnoxious entertainmen...\n",
       "4                                    really big bad thing \n",
       "                               ...                        \n",
       "14635                  thank got different flight chicago \n",
       "14636    leaving 20 minute late flight warning communic...\n",
       "14637          please bring american airline blackberry10 \n",
       "14638    money change flight answer phone suggestion ma...\n",
       "14639    8 ppl need 2 know many seat next flight plz pu...\n",
       "Name: text, Length: 14640, dtype: object"
      ]
     },
     "execution_count": 23,
     "metadata": {},
     "output_type": "execute_result"
    }
   ],
   "source": [
    "X"
   ]
  },
  {
   "cell_type": "code",
   "execution_count": 24,
   "id": "d375ae37",
   "metadata": {},
   "outputs": [
    {
     "data": {
      "text/plain": [
       "0        1\n",
       "1        2\n",
       "2        1\n",
       "3        0\n",
       "4        0\n",
       "        ..\n",
       "14635    2\n",
       "14636    0\n",
       "14637    1\n",
       "14638    0\n",
       "14639    1\n",
       "Name: sentiment, Length: 14640, dtype: int32"
      ]
     },
     "execution_count": 24,
     "metadata": {},
     "output_type": "execute_result"
    }
   ],
   "source": [
    "Y"
   ]
  },
  {
   "cell_type": "code",
   "execution_count": 25,
   "id": "b40e57e9",
   "metadata": {},
   "outputs": [],
   "source": [
    "# split the dataset \n",
    "# 75% training set, 25% testing set \n",
    "# stratify = Y will make sure that random split has same proportion of 0's, 1's, 2's in both training(Y_train) & testing set(Y_test) \n",
    "\n",
    "from sklearn.model_selection import train_test_split \n",
    "X_train,X_test,Y_train,Y_test = train_test_split(X,Y,stratify=Y, test_size=0.25,random_state=42) \n"
   ]
  },
  {
   "cell_type": "code",
   "execution_count": 26,
   "id": "8dbe70c3",
   "metadata": {},
   "outputs": [
    {
     "name": "stdout",
     "output_type": "stream",
     "text": [
      "(10980,)\n",
      "(3660,)\n",
      "(10980,)\n",
      "(3660,)\n"
     ]
    }
   ],
   "source": [
    "print(X_train.shape)\n",
    "print(X_test.shape)\n",
    "print(Y_train.shape)\n",
    "print(Y_test.shape)\n"
   ]
  },
  {
   "cell_type": "code",
   "execution_count": 27,
   "id": "70f8234b",
   "metadata": {},
   "outputs": [],
   "source": [
    "#vectorize text to numbers using func. CountVectorizer\n",
    "from sklearn.feature_extraction.text import CountVectorizer\n",
    "vec = CountVectorizer(stop_words='english')"
   ]
  },
  {
   "cell_type": "code",
   "execution_count": 28,
   "id": "18f23afd",
   "metadata": {},
   "outputs": [
    {
     "data": {
      "text/plain": [
       "CountVectorizer(stop_words='english')"
      ]
     },
     "execution_count": 28,
     "metadata": {},
     "output_type": "execute_result"
    }
   ],
   "source": [
    "vec"
   ]
  },
  {
   "cell_type": "code",
   "execution_count": 29,
   "id": "82d6dd78",
   "metadata": {},
   "outputs": [],
   "source": [
    "X_train = vec.fit_transform(X_train).toarray() # convert X_train into numbers "
   ]
  },
  {
   "cell_type": "code",
   "execution_count": 30,
   "id": "f91e8b8f",
   "metadata": {},
   "outputs": [
    {
     "data": {
      "text/plain": [
       "array([[0, 0, 0, ..., 0, 0, 0],\n",
       "       [0, 0, 0, ..., 0, 0, 0],\n",
       "       [0, 0, 0, ..., 0, 0, 0],\n",
       "       ...,\n",
       "       [0, 0, 0, ..., 0, 0, 0],\n",
       "       [0, 0, 0, ..., 0, 0, 0],\n",
       "       [0, 0, 0, ..., 0, 0, 0]], dtype=int64)"
      ]
     },
     "execution_count": 30,
     "metadata": {},
     "output_type": "execute_result"
    }
   ],
   "source": [
    "X_train"
   ]
  },
  {
   "cell_type": "code",
   "execution_count": 31,
   "id": "aa5d0c57",
   "metadata": {},
   "outputs": [],
   "source": [
    "X_test = vec.transform(X_test).toarray() # convert X_test into numbers "
   ]
  },
  {
   "cell_type": "code",
   "execution_count": 32,
   "id": "1fcd452d",
   "metadata": {},
   "outputs": [
    {
     "data": {
      "text/plain": [
       "array([[0, 0, 0, ..., 0, 0, 0],\n",
       "       [0, 0, 0, ..., 0, 0, 0],\n",
       "       [0, 0, 0, ..., 0, 0, 0],\n",
       "       ...,\n",
       "       [0, 0, 0, ..., 0, 0, 0],\n",
       "       [0, 0, 0, ..., 0, 0, 0],\n",
       "       [0, 0, 0, ..., 0, 0, 0]], dtype=int64)"
      ]
     },
     "execution_count": 32,
     "metadata": {},
     "output_type": "execute_result"
    }
   ],
   "source": [
    "X_test"
   ]
  },
  {
   "cell_type": "code",
   "execution_count": 33,
   "id": "4cca192d",
   "metadata": {},
   "outputs": [],
   "source": [
    "# Now, we will fit the Naive Bayes model to the training data\n",
    "from sklearn.naive_bayes import MultinomialNB   # multinomial for multiple classes, Gaussian for binary classes\n",
    "classifier = MultinomialNB()"
   ]
  },
  {
   "cell_type": "code",
   "execution_count": 34,
   "id": "84afd50b",
   "metadata": {},
   "outputs": [
    {
     "data": {
      "text/plain": [
       "MultinomialNB()"
      ]
     },
     "execution_count": 34,
     "metadata": {},
     "output_type": "execute_result"
    }
   ],
   "source": [
    "classifier.fit(X_train,Y_train)  # train the data"
   ]
  },
  {
   "cell_type": "code",
   "execution_count": 35,
   "id": "39f8b68d",
   "metadata": {},
   "outputs": [
    {
     "data": {
      "text/plain": [
       "0.8509107468123862"
      ]
     },
     "execution_count": 35,
     "metadata": {},
     "output_type": "execute_result"
    }
   ],
   "source": [
    "classifier.score(X_train, Y_train) # score of the model on training data"
   ]
  },
  {
   "cell_type": "code",
   "execution_count": 36,
   "id": "d6730808",
   "metadata": {},
   "outputs": [],
   "source": [
    "# we will predict the test data \n",
    "Y_pred = classifier.predict(X_test) # predict the class of Y for the given testing data"
   ]
  },
  {
   "cell_type": "code",
   "execution_count": 37,
   "id": "c470cdfb",
   "metadata": {},
   "outputs": [
    {
     "data": {
      "text/plain": [
       "array([1, 0, 1, ..., 0, 0, 1])"
      ]
     },
     "execution_count": 37,
     "metadata": {},
     "output_type": "execute_result"
    }
   ],
   "source": [
    "Y_pred"
   ]
  },
  {
   "cell_type": "code",
   "execution_count": 38,
   "id": "2c2f8ecb",
   "metadata": {},
   "outputs": [
    {
     "name": "stdout",
     "output_type": "stream",
     "text": [
      "[(1, 1), (0, 0), (2, 1), (1, 0), (1, 2), (0, 0), (2, 1), (2, 2), (2, 2), (2, 0), (0, 0), (1, 0), (2, 2), (1, 1), (1, 0), (0, 0), (0, 0), (2, 2), (0, 0), (0, 0), (0, 0), (2, 2), (0, 0), (0, 0), (0, 0), (2, 0), (0, 0), (1, 1), (0, 0), (2, 2), (1, 0), (0, 0), (1, 1), (2, 2), (1, 0), (0, 0), (2, 0), (2, 0), (2, 2), (0, 0), (1, 1), (1, 0), (1, 0), (0, 0), (0, 0), (0, 0), (0, 0), (1, 1), (1, 1), (0, 0), (2, 0), (0, 0), (1, 1), (0, 2), (1, 1), (2, 2), (0, 0), (0, 0), (2, 2), (0, 0), (0, 0), (2, 1), (1, 0), (0, 0), (0, 0), (0, 1), (2, 2), (0, 0), (0, 0), (0, 0), (0, 0), (0, 0), (0, 0), (2, 2), (2, 0), (0, 0), (0, 0), (0, 0), (0, 0), (0, 1), (2, 0), (1, 1), (1, 0), (0, 1), (0, 0), (0, 0), (2, 0), (0, 0), (1, 1), (0, 0), (0, 0), (0, 0), (0, 0), (0, 0), (0, 0), (0, 0), (2, 1), (0, 0), (0, 0), (0, 0), (0, 0), (1, 1), (0, 0), (1, 0), (1, 0), (0, 0), (1, 0), (0, 0), (0, 0), (0, 0), (1, 1), (1, 2), (0, 0), (0, 0), (0, 0), (0, 0), (1, 1), (1, 1), (0, 0), (0, 0), (1, 1), (0, 0), (1, 0), (1, 1), (0, 0), (0, 0), (0, 0), (1, 1), (1, 0), (0, 0), (0, 0), (0, 0), (0, 0), (2, 2), (0, 0), (0, 0), (0, 0), (0, 0), (1, 1), (0, 0), (1, 1), (2, 2), (0, 0), (0, 0), (0, 0), (0, 0), (0, 0), (0, 0), (0, 0), (0, 0), (1, 0), (1, 0), (1, 1), (0, 0), (0, 0), (2, 0), (0, 0), (0, 0), (0, 0), (0, 0), (0, 0), (0, 0), (0, 0), (0, 0), (0, 0), (2, 1), (0, 0), (0, 0), (0, 0), (2, 2), (0, 0), (1, 1), (1, 2), (0, 0), (2, 0), (1, 0), (1, 0), (2, 2), (1, 0), (0, 0), (1, 0), (0, 0), (0, 0), (0, 0), (0, 0), (0, 0), (0, 0), (0, 1), (0, 1), (1, 1), (0, 0), (0, 0), (0, 0), (1, 0), (0, 0), (1, 0), (0, 0), (2, 0), (0, 0), (0, 0), (0, 0), (0, 0), (0, 0), (0, 0), (2, 2), (0, 0), (1, 2), (2, 0), (0, 0), (1, 0), (1, 0), (0, 0), (2, 2), (0, 0), (0, 0), (0, 0), (0, 0), (0, 0), (2, 1), (0, 2), (1, 2), (1, 1), (0, 0), (0, 0), (2, 2), (0, 0), (0, 0), (0, 0), (0, 0), (0, 0), (0, 0), (0, 0), (0, 0), (0, 0), (0, 1), (0, 0), (0, 0), (0, 0), (0, 0), (0, 0), (0, 0), (1, 0), (0, 0), (0, 0), (0, 0), (0, 0), (0, 0), (0, 0), (0, 0), (2, 0), (1, 0), (0, 0), (0, 0), (0, 0), (0, 0), (0, 0), (2, 2), (0, 0), (1, 0), (0, 0), (1, 0), (0, 0), (0, 0), (0, 0), (0, 0), (0, 0), (0, 0), (1, 0), (0, 0), (1, 0), (0, 0), (2, 2), (1, 0), (2, 2), (1, 0), (0, 0), (0, 0), (0, 0), (0, 0), (0, 0), (0, 0), (2, 2), (0, 0), (1, 0), (0, 0), (0, 1), (1, 0), (1, 0), (0, 0), (0, 0), (2, 0), (0, 0), (0, 1), (0, 0), (2, 2), (0, 0), (0, 0), (2, 0), (0, 0), (0, 0), (0, 0), (0, 0), (0, 0), (1, 2), (0, 0), (0, 0), (1, 1), (0, 0), (1, 1), (0, 0), (0, 0), (0, 0), (1, 0), (0, 0), (1, 0), (0, 0), (0, 0), (1, 1), (2, 1), (1, 0), (0, 0), (0, 0), (1, 1), (1, 0), (2, 2), (0, 0), (2, 2), (0, 0), (1, 1), (0, 0), (1, 0), (0, 0), (0, 0), (0, 0), (0, 0), (0, 0), (1, 1), (0, 0), (0, 0), (0, 1), (0, 0), (1, 0), (0, 0), (0, 0), (0, 0), (0, 0), (1, 0), (0, 0), (0, 0), (2, 2), (1, 0), (0, 0), (0, 0), (1, 0), (0, 0), (2, 0), (0, 0), (0, 0), (0, 0), (1, 0), (0, 0), (1, 0), (0, 1), (0, 0), (1, 0), (2, 0), (1, 1), (0, 0), (1, 0), (1, 0), (0, 0), (0, 0), (0, 0), (0, 0), (0, 0), (2, 2), (0, 0), (0, 0), (0, 0), (0, 0), (0, 0), (0, 0), (0, 0), (0, 0), (2, 0), (0, 0), (2, 0), (0, 0), (1, 0), (2, 1), (2, 2), (0, 0), (0, 0), (0, 0), (0, 0), (0, 0), (0, 0), (1, 0), (0, 0), (2, 2), (0, 0), (1, 1), (0, 1), (1, 0), (0, 0), (1, 0), (0, 1), (1, 0), (0, 0), (0, 0), (0, 0), (0, 0), (0, 0), (2, 2), (2, 0), (1, 0), (0, 0), (0, 0), (2, 2), (0, 0), (1, 2), (0, 0), (1, 0), (0, 0), (1, 0), (0, 1), (1, 1), (0, 0), (2, 0), (1, 1), (1, 0), (0, 0), (1, 1), (0, 0), (0, 0), (2, 1), (0, 0), (2, 2), (0, 0), (1, 0), (0, 0), (1, 0), (1, 0), (0, 0), (0, 0), (0, 0), (0, 0), (0, 0), (2, 2), (2, 0), (1, 0), (0, 0), (2, 2), (1, 0), (2, 0), (0, 0), (1, 0), (0, 0), (1, 0), (1, 0), (0, 0), (0, 0), (1, 0), (0, 0), (1, 0), (0, 0), (1, 0), (1, 0), (0, 0), (0, 0), (1, 0), (0, 0), (0, 0), (0, 0), (1, 0), (0, 0), (0, 0), (0, 1), (0, 0), (0, 0), (0, 0), (0, 0), (2, 2), (0, 0), (0, 0), (0, 0), (1, 0), (2, 0), (0, 0), (1, 1), (0, 0), (2, 2), (2, 2), (2, 2), (2, 0), (0, 0), (1, 1), (0, 1), (2, 2), (0, 1), (0, 0), (1, 1), (0, 0), (0, 0), (0, 0), (0, 1), (0, 0), (0, 0), (2, 0), (1, 0), (0, 2), (0, 0), (0, 0), (0, 0), (1, 1), (0, 0), (1, 1), (0, 0), (2, 2), (1, 2), (0, 0), (2, 2), (0, 0), (0, 0), (0, 0), (2, 2), (0, 0), (2, 2), (0, 0), (0, 0), (0, 0), (2, 1), (0, 0), (1, 0), (0, 0), (2, 0), (0, 1), (2, 2), (0, 0), (2, 2), (0, 0), (2, 2), (0, 1), (2, 2), (0, 0), (0, 0), (0, 0), (0, 0), (0, 0), (0, 0), (1, 0), (2, 0), (0, 0), (1, 0), (1, 0), (0, 0), (0, 0), (0, 0), (0, 0), (2, 0), (0, 0), (1, 1), (0, 0), (0, 0), (0, 0), (1, 0), (1, 0), (2, 2), (2, 2), (0, 0), (2, 2), (0, 2), (2, 2), (0, 0), (0, 0), (2, 2), (0, 0), (0, 0), (0, 0), (1, 0), (2, 2), (0, 0), (2, 2), (2, 2), (0, 0), (0, 0), (0, 0), (0, 0), (0, 0), (0, 0), (0, 0), (0, 0), (0, 0), (0, 0), (1, 1), (0, 0), (0, 0), (0, 0), (0, 0), (0, 1), (0, 0), (0, 2), (0, 0), (1, 1), (1, 0), (0, 0), (2, 0), (0, 0), (0, 0), (0, 0), (0, 0), (2, 2), (2, 2), (1, 0), (0, 0), (2, 2), (2, 0), (0, 0), (0, 0), (0, 1), (0, 0), (0, 0), (0, 0), (0, 0), (0, 0), (0, 0), (0, 0), (0, 0), (0, 0), (1, 2), (0, 0), (0, 0), (2, 2), (0, 0), (0, 0), (0, 0), (0, 0), (1, 0), (1, 1), (1, 1), (0, 0), (0, 0), (0, 0), (2, 2), (1, 1), (0, 0), (1, 0), (2, 2), (0, 0), (0, 0), (2, 0), (2, 2), (0, 1), (1, 0), (0, 0), (2, 2), (0, 0), (1, 0), (2, 0), (0, 0), (0, 0), (1, 1), (0, 0), (0, 0), (2, 2), (0, 0), (0, 0), (1, 1), (2, 2), (0, 0), (2, 0), (1, 1), (0, 2), (0, 0), (0, 0), (0, 0), (1, 0), (0, 0), (0, 0), (0, 0), (1, 1), (1, 1), (1, 0), (1, 0), (2, 1), (0, 0), (1, 0), (0, 0), (2, 1), (2, 2), (0, 0), (2, 0), (0, 0), (0, 0), (1, 0), (0, 0), (2, 2), (1, 0), (0, 0), (2, 0), (0, 0), (1, 0), (0, 0), (0, 0), (1, 0), (2, 0), (0, 0), (0, 0), (1, 1), (1, 0), (0, 0), (0, 0), (2, 2), (0, 0), (0, 0), (1, 0), (0, 0), (0, 0), (2, 0), (1, 0), (0, 0), (2, 2), (1, 0), (1, 2), (0, 0), (0, 0), (0, 0), (2, 2), (0, 0), (2, 2), (1, 0), (1, 0), (0, 0), (1, 0), (1, 1), (0, 0), (0, 0), (1, 1), (0, 0), (0, 0), (0, 0), (2, 1), (0, 0), (2, 2), (0, 0), (1, 2), (0, 0), (0, 0), (0, 0), (2, 1), (1, 0), (0, 0), (0, 0), (0, 0), (0, 0), (0, 0), (0, 0), (0, 0), (0, 0), (0, 0), (0, 1), (2, 0), (0, 0), (1, 1), (0, 0), (0, 0), (0, 0), (1, 0), (0, 0), (0, 0), (0, 0), (0, 0), (0, 0), (0, 0), (0, 0), (0, 0), (2, 2), (1, 1), (2, 2), (0, 0), (2, 2), (0, 0), (0, 0), (1, 0), (1, 1), (0, 0), (1, 1), (0, 0), (0, 0), (0, 0), (2, 0), (0, 0), (0, 0), (0, 0), (0, 0), (1, 0), (1, 1), (1, 0), (2, 0), (0, 0), (0, 0), (1, 0), (0, 0), (0, 0), (0, 0), (1, 0), (0, 0), (1, 1), (0, 0), (2, 2), (0, 0), (0, 0), (0, 0), (0, 1), (0, 0), (2, 2), (0, 0), (1, 1), (0, 0), (0, 0), (0, 0), (0, 0), (0, 0), (0, 0), (2, 2), (2, 0), (2, 2), (1, 1), (0, 0), (1, 0), (1, 1), (0, 0), (0, 0), (1, 2), (0, 0), (0, 0), (2, 2), (0, 0), (0, 0), (0, 0), (0, 0), (0, 0), (2, 0), (0, 0), (0, 0), (0, 0), (0, 0), (1, 0), (0, 0), (0, 0), (2, 0), (1, 1), (2, 2), (0, 0), (0, 0), (0, 0), (1, 0), (0, 0), (0, 0), (0, 0), (0, 0), (2, 2), (0, 1), (2, 1), (0, 2), (2, 0), (0, 0), (0, 0), (0, 0), (2, 2), (1, 0), (2, 2), (1, 0), (0, 0), (1, 1), (1, 1), (0, 0), (2, 2), (0, 0), (1, 1), (1, 0), (1, 2), (1, 0), (2, 2), (2, 0), (0, 0), (0, 0), (1, 0), (1, 0), (0, 0), (2, 2), (0, 0), (1, 0), (0, 0), (1, 0), (2, 2), (1, 0), (0, 2), (0, 0), (1, 1), (0, 0), (1, 0), (0, 0), (0, 0), (0, 0), (0, 2), (0, 0), (0, 0), (0, 0), (0, 0), (0, 0), (1, 0), (0, 0), (0, 0), (0, 0), (0, 0), (0, 0), (0, 0), (2, 0), (0, 0), (0, 0), (0, 0), (0, 0), (0, 0), (2, 2), (1, 1), (0, 0), (0, 0), (1, 1), (0, 0), (2, 2), (0, 0), (0, 0), (2, 2), (0, 0), (0, 0), (0, 0), (2, 0), (1, 0), (0, 0), (0, 0), (2, 2), (0, 0), (0, 0), (0, 0), (0, 0), (0, 2), (0, 0), (0, 0), (0, 0), (0, 0), (0, 0), (0, 0), (1, 1), (0, 0), (0, 0), (0, 0), (0, 0), (2, 2), (0, 0), (0, 0), (1, 1), (2, 2), (0, 0), (0, 0), (2, 0), (0, 0), (1, 0), (0, 0), (2, 2), (2, 2), (0, 0), (0, 0), (0, 0), (1, 0), (0, 0), (0, 0), (0, 0), (0, 0), (2, 0), (0, 0), (2, 0), (1, 0), (0, 0), (0, 0), (0, 0), (0, 0), (0, 0), (2, 0), (0, 0), (1, 1), (2, 0), (0, 0), (0, 0), (0, 0), (0, 0), (1, 1), (1, 1), (0, 0), (1, 0), (0, 0), (0, 0), (1, 1), (1, 0), (0, 0), (0, 0), (0, 0), (1, 1), (2, 2), (2, 0), (0, 0), (0, 0), (1, 0), (0, 0), (0, 0), (0, 0), (0, 0), (1, 2), (2, 2), (0, 0), (0, 0), (1, 0), (0, 0), (2, 0), (0, 0), (2, 0), (2, 2), (0, 0), (2, 0), (1, 1), (1, 0), (0, 0), (1, 0), (2, 2), (2, 0), (0, 0), (0, 2), (0, 0), (1, 2), (0, 0), (1, 1), (0, 0), (0, 0), (0, 0), (0, 0), (0, 0), (0, 0), (1, 1), (2, 0), (1, 0), (0, 0), (0, 0), (0, 0), (1, 0), (0, 0), (0, 0), (0, 0), (0, 0), (0, 0), (0, 0), (0, 0), (0, 2), (0, 1), (1, 1), (0, 0), (1, 1), (0, 0), (0, 0), (0, 0), (2, 0), (1, 0), (1, 1), (0, 0), (1, 1), (0, 0), (0, 0), (0, 0), (0, 1), (1, 1), (0, 0), (1, 1), (2, 0), (0, 0), (0, 0), (0, 0), (0, 0), (1, 0), (0, 0), (1, 0), (0, 0), (0, 1), (0, 0), (0, 0), (1, 0), (1, 0), (0, 0), (2, 0), (0, 0), (0, 1), (2, 2), (1, 0), (0, 0), (1, 0), (2, 2), (0, 0), (0, 0), (0, 0), (0, 0), (1, 1), (0, 0), (1, 1), (0, 0), (0, 0), (2, 0), (2, 2), (0, 0), (0, 0), (0, 0), (0, 0), (1, 1), (2, 0), (0, 0), (2, 2), (0, 0), (2, 2), (0, 0), (0, 0), (0, 0), (0, 0), (0, 0), (0, 0), (0, 0), (0, 0), (0, 0), (0, 0), (0, 0), (1, 1), (0, 0), (1, 0), (0, 0), (0, 0), (0, 0), (0, 0), (0, 0), (2, 1), (0, 0), (1, 0), (2, 2), (1, 1), (0, 0), (0, 0), (0, 1), (0, 0), (0, 0), (0, 2), (2, 2), (1, 1), (0, 1), (0, 0), (0, 0), (2, 1), (2, 2), (0, 0), (1, 1), (1, 1), (0, 0), (2, 0), (0, 0), (0, 0), (1, 2), (0, 0), (0, 0), (2, 2), (1, 1), (0, 0), (0, 0), (0, 0), (2, 2), (2, 2), (0, 2), (0, 0), (0, 0), (1, 1), (1, 0), (0, 0), (0, 0), (1, 2), (1, 0), (0, 0), (0, 0), (0, 0), (0, 0), (0, 0), (0, 0), (0, 0), (0, 0), (0, 0), (1, 0), (1, 0), (0, 1), (0, 0), (0, 0), (1, 0), (2, 0), (0, 0), (1, 0), (0, 0), (0, 0), (0, 0), (0, 0), (0, 0), (0, 0), (1, 1), (0, 0), (1, 1), (0, 0), (0, 0), (0, 0), (0, 0), (1, 1), (1, 0), (0, 0), (0, 0), (1, 1), (0, 0), (0, 0), (0, 0), (0, 0), (0, 0), (1, 0), (1, 0), (0, 0), (1, 1), (0, 0), (2, 1), (2, 2), (0, 0), (0, 0), (1, 0), (0, 0), (0, 0), (0, 0), (1, 1), (1, 1), (2, 2), (1, 1), (2, 2), (0, 1), (0, 0), (0, 0), (0, 0), (2, 0), (0, 0), (2, 2), (1, 1), (0, 0), (0, 0), (0, 0), (2, 2), (0, 0), (1, 1), (2, 2), (1, 1), (2, 0), (1, 0), (1, 0), (0, 0), (0, 0), (0, 0), (0, 0), (0, 0), (0, 0), (0, 0), (0, 0), (0, 0), (2, 2), (1, 0), (0, 0), (0, 0), (2, 2), (0, 0), (0, 0), (0, 0), (2, 1), (0, 0), (0, 0), (0, 0), (1, 0), (1, 0), (0, 0), (2, 0), (0, 0), (0, 0), (0, 0), (0, 0), (0, 2), (0, 0), (0, 0), (0, 0), (2, 2), (0, 0), (0, 0), (0, 0), (1, 0), (0, 0), (0, 0), (2, 2), (0, 0), (1, 1), (0, 0), (0, 0), (2, 1), (0, 0), (0, 0), (0, 0), (1, 1), (0, 0), (0, 0), (2, 0), (0, 0), (0, 0), (2, 1), (2, 2), (0, 2), (2, 0), (0, 1), (0, 0), (1, 0), (0, 0), (0, 0), (2, 2), (0, 0), (0, 0), (2, 2), (0, 0), (0, 0), (0, 0), (1, 0), (0, 0), (1, 0), (0, 0), (0, 0), (1, 1), (1, 1), (0, 0), (0, 0), (2, 2), (0, 0), (0, 0), (1, 1), (1, 0), (0, 0), (1, 1), (0, 0), (2, 0), (0, 0), (2, 2), (1, 0), (1, 1), (0, 0), (2, 0), (0, 0), (2, 2), (1, 0), (0, 0), (2, 0), (1, 1), (0, 0), (0, 0), (0, 0), (0, 0), (2, 0), (0, 0), (2, 0), (0, 0), (2, 0), (0, 0), (0, 0), (2, 0), (0, 0), (0, 0), (2, 2), (2, 0), (1, 0), (1, 1), (0, 0), (0, 0), (0, 0), (0, 0), (0, 0), (1, 0), (0, 0), (0, 0), (0, 0), (2, 2), (1, 2), (1, 0), (1, 1), (0, 0), (2, 1), (1, 0), (2, 0), (2, 2), (1, 0), (0, 0), (0, 0), (1, 1), (0, 0), (0, 0), (0, 0), (1, 0), (1, 1), (0, 0), (1, 0), (2, 2), (1, 2), (0, 0), (0, 0), (0, 0), (1, 1), (1, 0), (1, 1), (0, 1), (0, 0), (2, 2), (0, 0), (0, 0), (0, 0), (0, 0), (0, 0), (1, 0), (0, 0), (0, 0), (0, 0), (1, 0), (0, 0), (0, 0), (0, 0), (0, 0), (1, 1), (1, 0), (1, 0), (0, 0), (0, 0), (0, 0), (0, 0), (0, 1), (0, 0), (0, 0), (0, 0), (2, 2), (0, 0), (1, 1), (1, 1), (0, 0), (0, 0), (0, 0), (0, 0), (2, 1), (0, 0), (0, 0), (0, 0), (0, 0), (2, 0), (0, 0), (0, 0), (0, 0), (0, 0), (1, 0), (0, 0), (0, 0), (0, 0), (0, 0), (1, 0), (0, 0), (0, 0), (2, 0), (0, 0), (0, 0), (0, 0), (1, 0), (2, 1), (0, 0), (2, 2), (0, 0), (0, 1), (0, 0), (1, 1), (0, 0), (0, 1), (0, 0), (1, 1), (0, 0), (0, 0), (0, 0), (0, 0), (0, 0), (0, 0), (0, 0), (0, 0), (0, 0), (0, 0), (0, 0), (0, 0), (1, 1), (0, 0), (0, 0), (0, 0), (0, 0), (0, 0), (0, 0), (0, 0), (0, 0), (0, 0), (0, 0), (0, 0), (0, 0), (2, 0), (2, 2), (2, 2), (2, 1), (2, 1), (2, 0), (1, 0), (0, 0), (0, 0), (0, 0), (1, 0), (0, 0), (0, 0), (0, 0), (0, 0), (0, 0), (0, 1), (1, 1), (0, 0), (2, 2), (0, 0), (0, 0), (0, 2), (2, 2), (0, 0), (0, 0), (0, 0), (0, 0), (1, 1), (0, 0), (0, 0), (0, 0), (0, 0), (0, 0), (0, 0), (0, 0), (1, 2), (0, 1), (0, 0), (0, 0), (1, 1), (2, 2), (0, 0), (0, 0), (0, 0), (0, 0), (0, 0), (0, 2), (2, 0), (1, 0), (2, 0), (2, 2), (0, 0), (0, 0), (0, 0), (2, 2), (0, 0), (2, 0), (0, 0), (2, 2), (2, 2), (0, 0), (0, 0), (0, 0), (0, 0), (1, 0), (1, 1), (2, 2), (1, 0), (1, 0), (1, 1), (0, 0), (1, 1), (2, 2), (0, 0), (0, 0), (1, 0), (1, 0), (2, 2), (0, 0), (1, 0), (0, 0), (1, 0), (0, 0), (0, 0), (1, 0), (0, 0), (1, 1), (1, 0), (0, 0), (1, 0), (0, 0), (0, 2), (0, 0), (1, 1), (1, 2), (0, 2), (2, 2), (1, 0), (1, 0), (0, 0), (2, 1), (0, 0), (0, 0), (0, 0), (0, 0), (0, 0), (0, 0), (0, 0), (1, 0), (0, 2), (2, 2), (0, 0), (0, 0), (0, 0), (0, 0), (1, 0), (0, 0), (1, 1), (2, 2), (0, 0), (0, 0), (0, 0), (0, 0), (1, 0), (0, 0), (1, 0), (0, 0), (0, 0), (0, 0), (0, 0), (0, 0), (0, 0), (2, 0), (1, 1), (1, 1), (0, 0), (0, 0), (0, 0), (0, 0), (0, 0), (2, 0), (0, 0), (0, 0), (2, 2), (2, 2), (1, 1), (0, 0), (0, 0), (0, 0), (1, 0), (0, 0), (0, 0), (0, 0), (0, 0), (2, 2), (0, 0), (0, 0), (0, 0), (1, 0), (0, 2), (0, 0), (1, 1), (1, 2), (0, 0), (0, 0), (0, 0), (0, 0), (1, 0), (0, 0), (0, 0), (2, 0), (0, 0), (2, 0), (1, 2), (1, 0), (0, 0), (0, 0), (0, 0), (0, 0), (0, 0), (0, 0), (0, 0), (1, 0), (2, 2), (0, 0), (1, 1), (0, 0), (2, 0), (0, 0), (0, 0), (0, 0), (1, 0), (0, 0), (0, 0), (2, 2), (0, 0), (0, 0), (1, 2), (0, 0), (1, 0), (2, 2), (0, 0), (0, 0), (2, 2), (0, 0), (0, 0), (0, 0), (0, 0), (0, 0), (0, 0), (0, 0), (0, 0), (1, 0), (2, 2), (0, 0), (2, 2), (0, 0), (1, 0), (0, 0), (0, 0), (0, 0), (1, 0), (1, 1), (0, 0), (0, 0), (1, 0), (0, 0), (2, 2), (0, 0), (0, 0), (1, 0), (0, 0), (0, 0), (2, 2), (0, 0), (1, 0), (1, 0), (2, 2), (0, 1), (0, 0), (0, 0), (0, 0), (2, 1), (0, 0), (1, 1), (0, 0), (0, 0), (0, 0), (0, 0), (0, 1), (0, 0), (2, 1), (2, 2), (1, 0), (0, 0), (0, 0), (0, 0), (0, 0), (0, 0), (0, 0), (0, 0), (0, 0), (0, 0), (0, 0), (2, 2), (2, 2), (0, 0), (1, 0), (2, 2), (0, 0), (0, 0), (0, 0), (2, 1), (0, 0), (0, 0), (1, 1), (0, 0), (0, 0), (1, 1), (2, 0), (0, 0), (2, 1), (0, 0), (0, 0), (2, 2), (2, 2), (0, 0), (0, 0), (0, 0), (0, 0), (0, 0), (0, 0), (0, 0), (1, 1), (0, 0), (0, 0), (0, 0), (2, 1), (0, 2), (0, 0), (0, 0), (0, 0), (0, 0), (0, 0), (0, 0), (0, 0), (1, 0), (0, 0), (1, 0), (0, 0), (0, 0), (0, 0), (0, 2), (0, 0), (2, 2), (0, 0), (1, 1), (0, 0), (0, 0), (0, 0), (1, 1), (0, 0), (0, 0), (1, 0), (1, 0), (1, 1), (1, 1), (0, 1), (0, 0), (0, 0), (2, 2), (2, 0), (0, 0), (0, 0), (0, 0), (0, 0), (2, 2), (1, 1), (1, 0), (0, 0), (0, 0), (2, 2), (0, 0), (0, 0), (1, 2), (1, 2), (1, 0), (2, 0), (0, 0), (0, 0), (1, 0), (1, 0), (2, 1), (0, 0), (0, 0), (2, 2), (1, 0), (2, 1), (0, 0), (0, 0), (0, 0), (0, 0), (0, 0), (1, 1), (0, 0), (2, 2), (1, 1), (2, 0), (0, 0), (1, 2), (0, 0), (2, 0), (1, 0), (1, 1), (0, 0), (0, 0), (1, 0), (0, 0), (1, 0), (0, 0), (2, 1), (2, 0), (2, 2), (0, 0), (0, 0), (0, 0), (0, 0), (2, 1), (0, 0), (1, 0), (0, 0), (0, 0), (0, 0), (0, 0), (0, 0), (0, 1), (0, 0), (0, 0), (0, 0), (2, 2), (1, 0), (0, 0), (2, 0), (0, 0), (0, 0), (0, 0), (2, 1), (0, 0), (1, 0), (0, 0), (0, 0), (0, 0), (2, 0), (0, 1), (0, 0), (2, 0), (0, 0), (2, 2), (1, 0), (0, 1), (2, 1), (2, 0), (0, 0), (0, 0), (0, 0), (1, 2), (0, 0), (0, 0), (2, 2), (0, 0), (0, 0), (0, 0), (0, 0), (2, 0), (0, 2), (2, 0), (1, 1), (0, 0), (0, 0), (0, 0), (0, 0), (2, 1), (1, 0), (0, 0), (0, 0), (0, 0), (0, 1), (1, 1), (0, 2), (0, 0), (2, 2), (1, 1), (2, 1), (1, 0), (1, 0), (1, 0), (1, 1), (0, 0), (1, 1), (0, 0), (0, 0), (1, 0), (2, 0), (2, 2), (0, 0), (1, 0), (0, 0), (0, 0), (1, 0), (1, 0), (0, 0), (0, 0), (2, 0), (1, 1), (2, 1), (0, 0), (1, 0), (1, 0), (0, 0), (0, 0), (0, 2), (0, 0), (0, 0), (2, 2), (2, 2), (2, 0), (0, 1), (0, 0), (2, 2), (0, 0), (1, 0), (0, 0), (1, 0), (1, 0), (0, 0), (0, 0), (2, 2), (0, 0), (0, 0), (1, 0), (0, 0), (0, 0), (0, 0), (0, 0), (1, 1), (1, 2), (0, 0), (1, 1), (0, 0), (1, 1), (0, 0), (0, 0), (0, 0), (1, 0), (0, 0), (0, 0), (0, 0), (0, 0), (1, 1), (0, 0), (0, 0), (0, 0), (2, 2), (2, 2), (0, 0), (0, 0), (0, 0), (0, 0), (0, 0), (0, 0), (2, 2), (2, 0), (1, 0), (0, 0), (2, 2), (1, 0), (0, 2), (0, 0), (2, 0), (0, 0), (0, 0), (0, 0), (0, 0), (2, 2), (0, 0), (2, 1), (1, 1), (0, 0), (2, 2), (0, 0), (0, 0), (1, 0), (1, 0), (0, 0), (0, 0), (0, 0), (0, 0), (1, 0), (1, 0), (0, 0), (0, 0), (0, 0), (0, 0), (0, 1), (0, 0), (0, 0), (1, 1), (0, 0), (0, 0), (0, 0), (1, 1), (2, 2), (2, 0), (2, 2), (2, 0), (2, 2), (0, 0), (0, 0), (0, 0), (1, 1), (0, 0), (2, 0), (0, 0), (0, 0), (0, 0), (0, 0), (0, 0), (1, 0), (1, 1), (0, 0), (0, 0), (0, 0), (0, 0), (0, 0), (2, 2), (1, 0), (0, 0), (2, 0), (1, 0), (1, 0), (0, 0), (0, 0), (0, 0), (2, 2), (0, 0), (2, 0), (0, 0), (2, 2), (0, 0), (0, 0), (2, 2), (1, 1), (0, 0), (0, 0), (0, 0), (1, 1), (1, 0), (0, 0), (0, 0), (1, 0), (0, 0), (0, 0), (0, 0), (0, 0), (1, 0), (0, 0), (0, 0), (0, 0), (0, 0), (1, 0), (0, 0), (0, 0), (0, 0), (0, 0), (0, 0), (0, 0), (0, 0), (0, 0), (0, 0), (1, 0), (0, 0), (2, 2), (0, 0), (0, 0), (0, 0), (0, 0), (0, 0), (1, 0), (2, 2), (2, 2), (0, 0), (0, 0), (0, 0), (0, 1), (0, 0), (1, 1), (0, 0), (1, 0), (0, 0), (0, 0), (1, 1), (0, 0), (1, 0), (0, 0), (1, 1), (2, 2), (1, 0), (0, 0), (2, 2), (0, 0), (1, 0), (0, 1), (2, 0), (0, 0), (0, 1), (0, 0), (2, 0), (2, 0), (0, 0), (1, 1), (2, 1), (2, 2), (0, 0), (0, 0), (0, 0), (0, 0), (0, 0), (0, 0), (0, 2), (2, 0), (1, 1), (0, 0), (0, 0), (2, 2), (0, 0), (0, 0), (2, 2), (1, 0), (2, 0), (1, 0), (0, 0), (1, 1), (0, 1), (0, 0), (2, 2), (0, 0), (1, 0), (0, 0), (0, 0), (0, 0), (0, 0), (0, 2), (0, 0), (1, 1), (1, 0), (0, 0), (0, 0), (0, 0), (0, 0), (0, 0), (0, 0), (0, 0), (0, 0), (0, 0), (0, 0), (0, 0), (0, 0), (0, 0), (2, 0), (0, 0), (1, 1), (0, 0), (2, 2), (0, 0), (0, 0), (0, 0), (1, 0), (0, 0), (0, 0), (2, 2), (0, 0), (1, 2), (0, 0), (1, 0), (0, 0), (0, 0), (0, 0), (1, 0), (0, 0), (0, 0), (0, 0), (1, 1), (0, 0), (0, 0), (0, 0), (0, 0), (0, 0), (0, 0), (0, 0), (0, 0), (2, 1), (0, 0), (1, 0), (0, 0), (0, 0), (2, 2), (0, 0), (2, 2), (0, 0), (0, 0), (0, 0), (1, 0), (0, 0), (0, 1), (1, 1), (2, 2), (0, 0), (0, 0), (0, 0), (0, 0), (2, 0), (2, 2), (2, 2), (0, 0), (0, 0), (2, 2), (2, 2), (0, 0), (0, 0), (1, 0), (0, 0), (2, 2), (1, 1), (0, 0), (0, 0), (0, 0), (0, 0), (0, 0), (1, 1), (0, 0), (0, 0), (1, 0), (1, 0), (0, 0), (0, 0), (0, 0), (1, 2), (0, 0), (0, 0), (0, 0), (1, 0), (0, 0), (0, 0), (1, 0), (1, 0), (0, 0), (2, 1), (0, 0), (0, 0), (2, 0), (2, 2), (2, 0), (1, 0), (1, 1), (2, 0), (0, 0), (0, 0), (0, 0), (1, 0), (0, 0), (2, 2), (2, 2), (0, 0), (0, 0), (0, 0), (0, 0), (0, 1), (0, 0), (2, 0), (0, 0), (0, 0), (0, 0), (2, 2), (0, 0), (0, 0), (2, 0), (2, 1), (0, 0), (0, 0), (2, 0), (2, 2), (0, 0), (0, 0), (0, 0), (0, 0), (0, 0), (0, 0), (0, 2), (0, 0), (0, 0), (2, 0), (1, 1), (0, 0), (1, 1), (0, 0), (2, 1), (0, 0), (0, 0), (0, 0), (0, 0), (0, 0), (0, 0), (0, 0), (0, 0), (1, 1), (2, 2), (2, 2), (0, 0), (0, 0), (0, 1), (0, 0), (0, 0), (0, 0), (0, 0), (1, 2), (0, 0), (1, 0), (1, 0), (0, 0), (1, 2), (0, 0), (0, 0), (0, 0), (0, 0), (0, 1), (1, 2), (0, 0), (0, 0), (1, 1), (0, 0), (0, 0), (0, 0), (0, 0), (1, 0), (0, 0), (2, 2), (0, 0), (0, 0), (0, 0), (0, 0), (0, 0), (0, 0), (1, 0), (1, 1), (0, 0), (0, 0), (1, 1), (0, 0), (0, 0), (2, 0), (0, 0), (0, 0), (1, 1), (2, 2), (0, 0), (1, 1), (0, 0), (2, 2), (0, 0), (0, 0), (1, 0), (0, 0), (0, 0), (0, 1), (0, 0), (0, 0), (1, 2), (0, 0), (0, 0), (0, 0), (2, 0), (0, 0), (0, 0), (0, 0), (0, 0), (0, 0), (0, 0), (2, 2), (2, 2), (0, 0), (0, 0), (2, 2), (2, 0), (1, 0), (0, 0), (0, 0), (2, 1), (0, 0), (0, 0), (0, 0), (1, 1), (0, 0), (0, 0), (1, 1), (0, 0), (0, 0), (0, 0), (0, 0), (0, 0), (0, 0), (0, 0), (0, 0), (0, 0), (1, 1), (0, 0), (0, 0), (1, 1), (0, 0), (0, 0), (0, 0), (0, 0), (0, 0), (2, 0), (0, 0), (0, 0), (0, 0), (0, 1), (0, 0), (0, 0), (1, 1), (0, 0), (2, 0), (0, 0), (0, 0), (0, 0), (0, 0), (0, 0), (0, 0), (1, 0), (0, 0), (0, 0), (2, 0), (0, 0), (0, 0), (1, 2), (2, 0), (1, 0), (0, 0), (0, 0), (0, 0), (0, 0), (0, 0), (0, 0), (0, 0), (2, 2), (0, 0), (2, 2), (0, 0), (0, 0), (0, 0), (2, 0), (0, 0), (1, 0), (0, 0), (2, 2), (0, 0), (1, 1), (1, 1), (0, 0), (0, 0), (2, 0), (0, 0), (0, 0), (1, 0), (0, 0), (0, 0), (1, 1), (0, 1), (1, 0), (0, 0), (0, 0), (0, 0), (0, 0), (0, 0), (0, 0), (0, 1), (0, 0), (1, 0), (0, 0), (1, 0), (1, 1), (0, 0), (1, 0), (1, 0), (0, 0), (1, 1), (0, 0), (1, 0), (1, 1), (0, 0), (0, 0), (0, 0), (2, 0), (2, 2), (0, 0), (0, 0), (2, 0), (0, 0), (0, 0), (0, 0), (1, 1), (2, 0), (0, 0), (1, 2), (0, 0), (0, 0), (0, 1), (0, 0), (0, 0), (2, 0), (0, 0), (1, 1), (0, 0), (0, 0), (1, 1), (2, 2), (2, 2), (1, 1), (0, 0), (2, 2), (0, 0), (0, 0), (0, 2), (0, 0), (0, 0), (0, 0), (1, 1), (2, 2), (0, 0), (1, 2), (0, 0), (0, 0), (1, 0), (0, 0), (0, 0), (0, 0), (0, 0), (2, 2), (0, 0), (1, 0), (0, 0), (2, 2), (1, 1), (1, 0), (0, 0), (0, 0), (1, 1), (1, 1), (0, 0), (0, 0), (0, 0), (2, 2), (0, 0), (1, 0), (1, 0), (0, 0), (0, 0), (0, 0), (2, 2), (0, 0), (0, 0), (2, 2), (1, 0), (0, 0), (0, 0), (0, 0), (0, 0), (0, 0), (0, 0), (2, 2), (1, 0), (1, 2), (2, 0), (0, 0), (0, 0), (1, 0), (0, 0), (0, 0), (2, 0), (1, 0), (2, 2), (0, 0), (0, 0), (0, 0), (0, 0), (0, 0), (1, 1), (0, 0), (2, 0), (0, 0), (1, 0), (1, 1), (1, 0), (1, 1), (0, 0), (1, 0), (0, 0), (1, 1), (2, 0), (0, 0), (0, 0), (0, 0), (0, 0), (0, 0), (1, 1), (0, 0), (0, 0), (0, 0), (0, 0), (0, 0), (0, 0), (0, 0), (2, 2), (0, 0), (1, 0), (0, 0), (0, 0), (0, 0), (0, 0), (2, 2), (0, 1), (2, 1), (0, 0), (0, 0), (0, 0), (1, 1), (2, 2), (2, 2), (0, 0), (1, 1), (0, 0), (0, 1), (0, 0), (0, 0), (0, 0), (0, 0), (0, 0), (0, 0), (1, 0), (1, 0), (1, 0), (0, 0), (1, 1), (2, 2), (1, 0), (0, 0), (0, 0), (0, 0), (0, 0), (0, 0), (0, 0), (0, 0), (0, 0), (0, 0), (0, 0), (1, 1), (1, 0), (2, 2), (0, 0), (1, 0), (0, 0), (0, 0), (1, 1), (0, 0), (0, 0), (1, 1), (1, 1), (0, 0), (1, 0), (1, 1), (0, 0), (0, 0), (1, 1), (0, 0), (0, 0), (0, 0), (0, 0), (0, 0), (0, 0), (2, 2), (0, 1), (0, 0), (2, 1), (1, 1), (0, 0), (0, 0), (0, 0), (0, 0), (0, 0), (0, 0), (0, 0), (1, 0), (1, 2), (1, 0), (0, 0), (0, 0), (1, 2), (0, 0), (1, 1), (1, 0), (2, 2), (0, 0), (0, 0), (0, 0), (1, 1), (1, 1), (2, 0), (0, 0), (0, 0), (1, 1), (0, 0), (1, 0), (2, 0), (0, 0), (2, 0), (0, 0), (0, 0), (0, 0), (0, 0), (1, 0), (0, 0), (0, 0), (2, 1), (0, 0), (2, 2), (2, 2), (0, 0), (1, 0), (2, 2), (1, 1), (0, 0), (1, 0), (0, 0), (2, 2), (1, 2), (2, 2), (0, 0), (0, 0), (2, 0), (0, 0), (1, 2), (2, 2), (0, 0), (1, 0), (0, 0), (0, 0), (0, 0), (0, 0), (0, 0), (0, 0), (2, 2), (0, 0), (0, 0), (0, 0), (0, 0), (1, 0), (0, 0), (1, 0), (2, 2), (0, 0), (0, 0), (2, 0), (2, 2), (0, 0), (0, 0), (1, 0), (0, 0), (1, 0), (1, 1), (0, 0), (0, 0), (0, 0), (0, 0), (0, 0), (0, 0), (0, 0), (0, 0), (0, 0), (0, 2), (0, 0), (1, 1), (0, 0), (0, 0), (1, 2), (2, 2), (0, 0), (0, 0), (0, 0), (0, 0), (0, 0), (0, 0), (0, 0), (0, 2), (0, 0), (1, 0), (2, 0), (1, 0), (0, 0), (2, 2), (0, 0), (0, 0), (0, 0), (0, 0), (1, 0), (0, 0), (1, 1), (0, 1), (2, 0), (0, 1), (1, 0), (0, 0), (2, 0), (2, 0), (2, 2), (2, 2), (2, 0), (0, 0), (0, 0), (0, 0), (0, 1), (0, 0), (0, 0), (2, 0), (1, 0), (0, 0), (1, 2), (0, 0), (0, 0), (0, 0), (1, 1), (2, 2), (0, 0), (0, 0), (1, 0), (2, 2), (1, 1), (0, 0), (2, 2), (0, 0), (0, 0), (0, 0), (0, 0), (0, 0), (0, 0), (0, 0), (2, 0), (0, 0), (0, 0), (1, 0), (0, 0), (0, 0), (0, 1), (2, 2), (0, 0), (0, 0), (0, 0), (0, 0), (1, 1), (0, 0), (0, 0), (0, 0), (0, 0), (0, 0), (0, 0), (1, 1), (1, 1), (0, 0), (0, 0), (0, 0), (2, 0), (0, 0), (1, 1), (2, 2), (1, 0), (0, 0), (0, 0), (2, 2), (0, 0), (0, 0), (1, 0), (0, 0), (0, 0), (1, 2), (2, 2), (0, 0), (0, 0), (0, 0), (0, 0), (1, 1), (0, 0), (0, 0), (2, 2), (0, 1), (0, 0), (0, 0), (0, 0), (1, 1), (1, 0), (1, 0), (1, 0), (0, 0), (0, 0), (0, 0), (2, 2), (2, 2), (1, 1), (1, 0), (0, 0), (0, 0), (1, 0), (0, 2), (0, 0), (0, 0), (1, 0), (0, 0), (0, 0), (2, 2), (2, 0), (0, 0), (0, 0), (0, 0), (2, 2), (0, 0), (1, 0), (0, 0), (1, 1), (0, 0), (0, 0), (2, 2), (1, 0), (1, 0), (2, 2), (0, 0), (1, 1), (1, 0), (0, 0), (2, 0), (1, 1), (0, 0), (1, 0), (2, 2), (0, 0), (2, 2), (0, 0), (0, 0), (0, 0), (0, 0), (1, 1), (1, 0), (0, 0), (1, 1), (1, 0), (1, 0), (0, 0), (2, 0), (0, 0), (0, 0), (0, 0), (0, 0), (2, 2), (0, 0), (0, 0), (0, 0), (0, 0), (0, 0), (0, 0), (0, 0), (2, 0), (2, 2), (1, 0), (1, 0), (0, 0), (2, 2), (1, 0), (2, 0), (0, 0), (0, 0), (2, 2), (1, 0), (1, 1), (2, 2), (2, 2), (0, 0), (0, 0), (0, 0), (0, 0), (0, 0), (0, 1), (0, 0), (1, 2), (1, 1), (1, 0), (0, 0), (2, 2), (0, 0), (1, 0), (1, 0), (2, 0), (0, 0), (1, 2), (0, 0), (0, 0), (0, 0), (2, 0), (1, 1), (2, 2), (2, 1), (0, 0), (0, 0), (0, 0), (0, 0), (0, 0), (0, 0), (1, 2), (1, 1), (0, 0), (0, 0), (2, 2), (0, 0), (0, 0), (2, 0), (1, 2), (0, 0), (2, 2), (2, 0), (1, 1), (0, 0), (1, 1), (0, 0), (0, 0), (0, 0), (0, 0), (0, 0), (0, 0), (2, 0), (1, 0), (0, 0), (0, 0), (2, 2), (0, 0), (0, 0), (0, 0), (1, 0), (1, 0), (2, 2), (0, 0), (2, 0), (2, 2), (2, 1), (0, 0), (0, 0), (0, 0), (1, 1), (0, 0), (0, 0), (1, 0), (0, 0), (0, 0), (1, 0), (2, 2), (0, 0), (0, 0), (0, 0), (0, 0), (0, 0), (0, 0), (1, 1), (1, 0), (1, 0), (1, 1), (1, 1), (0, 0), (0, 0), (1, 2), (0, 0), (1, 0), (0, 0), (2, 2), (0, 0), (0, 0), (0, 0), (0, 0), (0, 0), (2, 2), (0, 0), (0, 0), (2, 0), (0, 0), (0, 0), (0, 0), (0, 0), (0, 0), (0, 0), (1, 2), (0, 0), (0, 0), (2, 2), (2, 2), (0, 0), (1, 1), (0, 0), (0, 0), (0, 0), (1, 0), (2, 2), (0, 0), (1, 2), (0, 0), (0, 0), (1, 0), (0, 0), (1, 1), (0, 0), (0, 0), (0, 0), (2, 0), (0, 0), (0, 0), (0, 0), (0, 0), (0, 0), (1, 1), (1, 0), (0, 0), (0, 0), (0, 0), (0, 0), (0, 0), (0, 0), (0, 0), (2, 0), (0, 0), (0, 0), (1, 0), (1, 1), (2, 0), (2, 0), (1, 0), (1, 0), (2, 2), (0, 0), (0, 0), (0, 0), (0, 0), (0, 0), (0, 0), (0, 1), (0, 2), (0, 0), (0, 0), (0, 0), (0, 0), (0, 0), (2, 2), (0, 0), (0, 0), (1, 1), (2, 2), (0, 0), (0, 0), (2, 0), (0, 0), (1, 1), (0, 0), (1, 0), (2, 2), (0, 0), (0, 0), (0, 0), (0, 0), (1, 0), (0, 0), (0, 0), (0, 0), (0, 0), (1, 0), (0, 0), (0, 0), (0, 0), (1, 0), (0, 0), (0, 0), (0, 0), (0, 0), (0, 0), (0, 0), (2, 2), (0, 0), (0, 0), (0, 0), (0, 0), (0, 0), (0, 0), (0, 0), (1, 0), (0, 0), (0, 0), (0, 0), (1, 0), (2, 2), (2, 2), (1, 1), (2, 0), (0, 0), (1, 0), (1, 0), (1, 0), (0, 0), (1, 0), (1, 0), (2, 2), (1, 1), (1, 0), (0, 0), (0, 0), (1, 0), (0, 0), (2, 2), (1, 0), (0, 0), (0, 0), (0, 0), (1, 0), (2, 2), (2, 0), (0, 0), (0, 0), (0, 0), (0, 2), (0, 0), (2, 1), (0, 0), (0, 0), (0, 0), (1, 0), (2, 2), (0, 0), (0, 0), (0, 1), (0, 0), (0, 0), (0, 0), (0, 0), (2, 0), (0, 0), (0, 0), (0, 0), (1, 1), (0, 0), (0, 0), (2, 2), (1, 0), (0, 0), (0, 0), (0, 0), (0, 0), (0, 0), (1, 0), (1, 0), (0, 0), (2, 0), (2, 0), (0, 0), (0, 0), (0, 0), (2, 2), (1, 1), (2, 0), (0, 2), (1, 0), (0, 0), (0, 0), (0, 0), (2, 0), (0, 0), (0, 0), (2, 2), (2, 0), (1, 0), (0, 0), (0, 0), (2, 2), (0, 0), (0, 0), (0, 0), (0, 0), (0, 0), (0, 0), (2, 0), (0, 0), (1, 1), (2, 0), (0, 0), (0, 0), (2, 1), (0, 1), (0, 0), (1, 0), (0, 0), (0, 0), (0, 0), (0, 0), (0, 0), (1, 0), (2, 2), (0, 2), (1, 0), (0, 0), (0, 0), (0, 0), (0, 0), (0, 0), (0, 0), (0, 0), (0, 0), (0, 0), (0, 0), (2, 2), (0, 0), (1, 1), (0, 0), (1, 2), (0, 0), (0, 0), (0, 0), (1, 1), (0, 0), (1, 1), (0, 0), (1, 0), (1, 2), (0, 0), (2, 2), (1, 1), (0, 0), (2, 2), (1, 1), (0, 0), (1, 1), (0, 0), (1, 0), (0, 0), (0, 0), (0, 2), (0, 0), (1, 2), (0, 0), (1, 0), (0, 0), (2, 2), (0, 0), (0, 0), (0, 0), (1, 0), (0, 0), (1, 2), (0, 0), (0, 0), (0, 0), (0, 0), (0, 0), (1, 1), (2, 2), (2, 1), (0, 0), (2, 2), (0, 0), (1, 0), (0, 0), (0, 0), (0, 0), (1, 1), (1, 0), (0, 0), (0, 0), (1, 0), (0, 0), (0, 0), (2, 2), (0, 0), (0, 0), (0, 0), (1, 0), (1, 0), (0, 0), (1, 2), (0, 0), (0, 0), (0, 0), (0, 0), (0, 0), (0, 0), (0, 0), (0, 0), (1, 0), (0, 1), (0, 0), (1, 0), (0, 0), (1, 1), (2, 1), (0, 0), (0, 0), (1, 2), (2, 2), (0, 0), (2, 2), (0, 0), (0, 0), (0, 0), (2, 2), (0, 0), (0, 0), (0, 0), (2, 2), (1, 1), (1, 0), (0, 0), (0, 0), (0, 0), (0, 0), (2, 2), (1, 0), (0, 0), (0, 0), (0, 0), (0, 0), (0, 0), (2, 2), (0, 0), (0, 0), (0, 0), (0, 0), (2, 2), (0, 0), (2, 2), (0, 0), (1, 1), (0, 0), (0, 0), (1, 0), (0, 0), (0, 1), (0, 0), (0, 0), (0, 0), (0, 0), (0, 0), (0, 0), (1, 1), (0, 0), (0, 0), (0, 0), (0, 0), (0, 0), (0, 0), (1, 1), (1, 0), (1, 0), (0, 0), (0, 2), (0, 0), (0, 0), (0, 0), (0, 0), (0, 0), (0, 0), (2, 2), (1, 1), (0, 0), (1, 0), (0, 0), (0, 0), (2, 2), (0, 0), (0, 0), (0, 0), (0, 0), (0, 0), (2, 2), (2, 0), (0, 0), (0, 0), (0, 0), (0, 0), (0, 0), (1, 0), (0, 0), (0, 0), (0, 0), (0, 0), (0, 0), (0, 0), (0, 0), (0, 0), (0, 0), (0, 0), (0, 0), (1, 0), (2, 2), (1, 1), (0, 1), (1, 0), (0, 0), (0, 0), (1, 0), (2, 0), (0, 0), (0, 0), (0, 0), (0, 0), (2, 0), (2, 2), (2, 0), (0, 0), (0, 0), (0, 0), (2, 0), (1, 2), (2, 2), (2, 0), (0, 1), (0, 0), (0, 0), (1, 0), (0, 0), (0, 0), (0, 0), (0, 0), (0, 0), (2, 2), (1, 0), (0, 0), (1, 0), (0, 0), (1, 0), (0, 0), (0, 0), (0, 1), (0, 0), (0, 0), (0, 0), (0, 0), (0, 0), (1, 1), (0, 0), (0, 0), (0, 0), (1, 0), (2, 2), (2, 2), (0, 0), (0, 0), (2, 0), (0, 0), (0, 0), (2, 0), (0, 1), (0, 0), (0, 1), (0, 0), (1, 0), (1, 0), (1, 1), (0, 0), (2, 2), (0, 0), (1, 1), (0, 0), (0, 0), (0, 0), (0, 1)]\n"
     ]
    }
   ],
   "source": [
    "print(list(zip(Y_test, Y_pred))) # compare actual Y with predicted Y"
   ]
  },
  {
   "cell_type": "code",
   "execution_count": 39,
   "id": "018321f5",
   "metadata": {},
   "outputs": [
    {
     "name": "stdout",
     "output_type": "stream",
     "text": [
      "[[2171   82   41]\n",
      " [ 428  287   60]\n",
      " [ 193   57  341]]\n",
      "classification report\n",
      "              precision    recall  f1-score   support\n",
      "\n",
      "           0       0.78      0.95      0.85      2294\n",
      "           1       0.67      0.37      0.48       775\n",
      "           2       0.77      0.58      0.66       591\n",
      "\n",
      "    accuracy                           0.76      3660\n",
      "   macro avg       0.74      0.63      0.66      3660\n",
      "weighted avg       0.75      0.76      0.74      3660\n",
      "\n",
      "Multinomial Naive Bayes model accuracy: 0.7647540983606558\n"
     ]
    }
   ],
   "source": [
    "# model evaluation \n",
    "from sklearn.metrics import confusion_matrix, accuracy_score,classification_report # import these functions from metrics sublib.\n",
    "cfm = confusion_matrix(Y_test,Y_pred)  #confusion matrix\n",
    "print(cfm)\n",
    "\n",
    "print('classification report')  # classification report\n",
    "print(classification_report(Y_test,Y_pred))\n",
    "\n",
    "acc = accuracy_score(Y_test,Y_pred)  # accuracy of the model\n",
    "print('Multinomial Naive Bayes model accuracy:',acc)"
   ]
  },
  {
   "cell_type": "code",
   "execution_count": 40,
   "id": "f251e2b0",
   "metadata": {},
   "outputs": [
    {
     "data": {
      "text/plain": [
       "array([2])"
      ]
     },
     "execution_count": 40,
     "metadata": {},
     "output_type": "execute_result"
    }
   ],
   "source": [
    "# model validating \n",
    "classifier.predict(vec.transform(['what would be amazingly awesome']).toarray())  # we can pass any text for testing our model "
   ]
  },
  {
   "cell_type": "markdown",
   "id": "4c455de6",
   "metadata": {},
   "source": [
    "it means positive tweet which is also confirmed by our dataset. So, our model is doing correct prediction"
   ]
  },
  {
   "cell_type": "code",
   "execution_count": 41,
   "id": "75a23274",
   "metadata": {},
   "outputs": [
    {
     "data": {
      "text/plain": [
       "array([0])"
      ]
     },
     "execution_count": 41,
     "metadata": {},
     "output_type": "execute_result"
    }
   ],
   "source": [
    "classifier.predict(vec.transform(['really big bad thing about it']).toarray())  "
   ]
  },
  {
   "cell_type": "markdown",
   "id": "df477889",
   "metadata": {},
   "source": [
    "it means negative tweet, also confirmed by our dataset. So, model is performing good. "
   ]
  },
  {
   "cell_type": "code",
   "execution_count": null,
   "id": "40f989d3",
   "metadata": {},
   "outputs": [],
   "source": []
  }
 ],
 "metadata": {
  "kernelspec": {
   "display_name": "Python 3 (ipykernel)",
   "language": "python",
   "name": "python3"
  },
  "language_info": {
   "codemirror_mode": {
    "name": "ipython",
    "version": 3
   },
   "file_extension": ".py",
   "mimetype": "text/x-python",
   "name": "python",
   "nbconvert_exporter": "python",
   "pygments_lexer": "ipython3",
   "version": "3.9.13"
  }
 },
 "nbformat": 4,
 "nbformat_minor": 5
}
