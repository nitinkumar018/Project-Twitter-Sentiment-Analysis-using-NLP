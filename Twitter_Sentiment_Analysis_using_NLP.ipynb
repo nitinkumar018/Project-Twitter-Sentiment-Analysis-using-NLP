{
 "cells": [
  {
   "cell_type": "code",
   "execution_count": 1,
   "id": "6f7adaf9",
   "metadata": {},
   "outputs": [
    {
     "name": "stdout",
     "output_type": "stream",
     "text": [
      "Requirement already satisfied: textblob in c:\\users\\nitin\\anaconda3\\lib\\site-packages (0.17.1)\n",
      "Requirement already satisfied: nltk>=3.1 in c:\\users\\nitin\\anaconda3\\lib\\site-packages (from textblob) (3.7)\n",
      "Requirement already satisfied: click in c:\\users\\nitin\\anaconda3\\lib\\site-packages (from nltk>=3.1->textblob) (8.0.4)\n",
      "Requirement already satisfied: joblib in c:\\users\\nitin\\anaconda3\\lib\\site-packages (from nltk>=3.1->textblob) (1.4.2)\n",
      "Requirement already satisfied: tqdm in c:\\users\\nitin\\anaconda3\\lib\\site-packages (from nltk>=3.1->textblob) (4.64.1)\n",
      "Requirement already satisfied: regex>=2021.8.3 in c:\\users\\nitin\\anaconda3\\lib\\site-packages (from nltk>=3.1->textblob) (2022.7.9)\n",
      "Requirement already satisfied: colorama in c:\\users\\nitin\\anaconda3\\lib\\site-packages (from click->nltk>=3.1->textblob) (0.4.5)\n",
      "Requirement already satisfied: tweepy in c:\\users\\nitin\\anaconda3\\lib\\site-packages (4.14.0)\n",
      "Requirement already satisfied: oauthlib<4,>=3.2.0 in c:\\users\\nitin\\anaconda3\\lib\\site-packages (from tweepy) (3.2.2)\n",
      "Requirement already satisfied: requests<3,>=2.27.0 in c:\\users\\nitin\\anaconda3\\lib\\site-packages (from tweepy) (2.28.1)\n",
      "Requirement already satisfied: requests-oauthlib<2,>=1.2.0 in c:\\users\\nitin\\anaconda3\\lib\\site-packages (from tweepy) (1.3.1)\n",
      "Requirement already satisfied: urllib3<1.27,>=1.21.1 in c:\\users\\nitin\\anaconda3\\lib\\site-packages (from requests<3,>=2.27.0->tweepy) (1.26.11)\n",
      "Requirement already satisfied: charset-normalizer<3,>=2 in c:\\users\\nitin\\anaconda3\\lib\\site-packages (from requests<3,>=2.27.0->tweepy) (2.0.4)\n",
      "Requirement already satisfied: idna<4,>=2.5 in c:\\users\\nitin\\anaconda3\\lib\\site-packages (from requests<3,>=2.27.0->tweepy) (3.3)\n",
      "Requirement already satisfied: certifi>=2017.4.17 in c:\\users\\nitin\\anaconda3\\lib\\site-packages (from requests<3,>=2.27.0->tweepy) (2022.9.14)\n",
      "Requirement already satisfied: nltk in c:\\users\\nitin\\anaconda3\\lib\\site-packages (3.7)\n",
      "Requirement already satisfied: joblib in c:\\users\\nitin\\anaconda3\\lib\\site-packages (from nltk) (1.4.2)\n",
      "Requirement already satisfied: tqdm in c:\\users\\nitin\\anaconda3\\lib\\site-packages (from nltk) (4.64.1)\n",
      "Requirement already satisfied: click in c:\\users\\nitin\\anaconda3\\lib\\site-packages (from nltk) (8.0.4)\n",
      "Requirement already satisfied: regex>=2021.8.3 in c:\\users\\nitin\\anaconda3\\lib\\site-packages (from nltk) (2022.7.9)\n",
      "Requirement already satisfied: colorama in c:\\users\\nitin\\anaconda3\\lib\\site-packages (from click->nltk) (0.4.5)\n"
     ]
    }
   ],
   "source": [
    "# install these libraries for sentiment analysis\n",
    "! pip install textblob\n",
    "! pip install tweepy\n",
    "! pip install nltk"
   ]
  },
  {
   "cell_type": "code",
   "execution_count": 2,
   "id": "85c7d751",
   "metadata": {},
   "outputs": [],
   "source": [
    "# Importing libraries\n",
    "import tweepy\n",
    "import pandas as pd\n",
    "import time\n",
    "import re   # RegEx (Regular Expressions) module use to remove special characters, symbols from the tweet \n",
    "import tweepy \n",
    "from tweepy import OAuthHandler # use to access your twitter account\n",
    "from textblob import TextBlob  # for sentiment analysis\n",
    "import nltk"
   ]
  },
  {
   "cell_type": "code",
   "execution_count": 3,
   "id": "7096f87f",
   "metadata": {},
   "outputs": [],
   "source": [
    "# define consumer key(API key), Authentication token for your twitter account to scrape the data from the twitter\n",
    "Bearer_Token = \"AAAAAAAAAAAAAAAAAAAAAMfxwAEAAAAAo2buDnA1943vti0RZWR73%2F68MEs%3DahsHrfzuMyLZMAm0lUBAsuz5Z292DUBHF4kQGtpvyj6xUut4re\"\n",
    "consumer_key = \"qlq2H9fbdMs5mD9WjOtBLjXXD\"\n",
    "consumer_secret = \"ctyY8wRHzwwSGzVrudfyEDMyhDejj57s69Fpz20QrSqIciZJfb\"\n",
    "access_token = \"1841190125457313793-Lkz7433UxnieDLuMxRYhVs1EYw9cES\"\n",
    "access_token_secret = \"REXuLy4JPDVeyConePZaYpvIKfdjnFRuS6e3O7KdfNJu5\""
   ]
  },
  {
   "cell_type": "code",
   "execution_count": 4,
   "id": "52ef9fc6",
   "metadata": {},
   "outputs": [],
   "source": [
    "# attempt authentication\n",
    "try:\n",
    "    # create OAuthHandler object\n",
    "    auth = tweepy.OAuthHandler(consumer_key, consumer_secret) # access your twitter account using OAuthHandler func\n",
    "    # set access token and secret\n",
    "    auth.set_access_token(access_token, access_token_secret)\n",
    "    # create tweepy API object to fetch tweets\n",
    "    api = tweepy.API(auth,wait_on_rate_limit=True)  # extract tweets from the twitter using API func\n",
    "except:\n",
    "    print(\"Error: Authentication Failed\")"
   ]
  },
  {
   "cell_type": "code",
   "execution_count": 5,
   "id": "cd0f7757",
   "metadata": {},
   "outputs": [],
   "source": [
    "def clean_tweet(tweet):  # define clean_tweet func to remove special characters, symbols from the tweet using RegEx module\n",
    "    '''\n",
    "    Utility function to clean tweet text by removing links, special characters\n",
    "    using simple regex statements.\n",
    "    '''\n",
    "    return ' '.join(re.sub(\"(@[A-Za-z0-9]+)|([^0-9A-Za-z \\t])|(\\w+:\\/\\/\\S+)\", \" \", tweet).split()) # replaces special characters with blank space in tweet column"
   ]
  },
  {
   "cell_type": "code",
   "execution_count": 6,
   "id": "32b76117",
   "metadata": {},
   "outputs": [],
   "source": [
    "def get_tweet_sentiment(score): # define get_tweet_sentiment func to classify the tweet as positive, negative & neutral tweet \n",
    "    '''\n",
    "    Utility function to classify sentiment of passed tweet\n",
    "    using textblob's sentiment method\n",
    "    '''\n",
    "\n",
    "    if score > 0:\n",
    "        return 'positive'\n",
    "    elif score == 0:\n",
    "        return 'neutral'\n",
    "    else:\n",
    "        return 'negative'"
   ]
  },
  {
   "cell_type": "code",
   "execution_count": 23,
   "id": "e7fb49b0",
   "metadata": {},
   "outputs": [],
   "source": [
    "# extract 1000 latest tweets of terrorist using search_tweets func & save in var. tweets\n",
    "tweets = api.search_tweets(q='terrorist',lang='en',count=1000)"
   ]
  },
  {
   "cell_type": "code",
   "execution_count": 24,
   "id": "0e9c40c0",
   "metadata": {},
   "outputs": [],
   "source": [
    "# tweets has so a long list but we want only 3 things: tweet id, at what time tweets are created, what is inside the tweet\n",
    "tweets_list=[[tweet.id,tweet.created_at,tweet.text] for tweet in tweets ]"
   ]
  },
  {
   "cell_type": "code",
   "execution_count": 25,
   "id": "174d8779",
   "metadata": {},
   "outputs": [],
   "source": [
    "# create a dataframe for tweet id, at what time tweets are created, what is inside the tweet\n",
    "tweets_df = pd.DataFrame(tweets_list,columns=['Tweet Id', 'Datetime', 'tweet'])\n"
   ]
  },
  {
   "cell_type": "code",
   "execution_count": 26,
   "id": "f4894376",
   "metadata": {},
   "outputs": [
    {
     "data": {
      "text/html": [
       "<div>\n",
       "<style scoped>\n",
       "    .dataframe tbody tr th:only-of-type {\n",
       "        vertical-align: middle;\n",
       "    }\n",
       "\n",
       "    .dataframe tbody tr th {\n",
       "        vertical-align: top;\n",
       "    }\n",
       "\n",
       "    .dataframe thead th {\n",
       "        text-align: right;\n",
       "    }\n",
       "</style>\n",
       "<table border=\"1\" class=\"dataframe\">\n",
       "  <thead>\n",
       "    <tr style=\"text-align: right;\">\n",
       "      <th></th>\n",
       "      <th>Tweet Id</th>\n",
       "      <th>Datetime</th>\n",
       "      <th>tweet</th>\n",
       "    </tr>\n",
       "  </thead>\n",
       "  <tbody>\n",
       "    <tr>\n",
       "      <th>0</th>\n",
       "      <td>1643286479374827521</td>\n",
       "      <td>2023-04-04 16:16:42+00:00</td>\n",
       "      <td>RT @business: Former New Zealand PM Jacinda Ar...</td>\n",
       "    </tr>\n",
       "    <tr>\n",
       "      <th>1</th>\n",
       "      <td>1643286479328931840</td>\n",
       "      <td>2023-04-04 16:16:42+00:00</td>\n",
       "      <td>@zoo_bear @DelhiPolice Self defence is not pro...</td>\n",
       "    </tr>\n",
       "    <tr>\n",
       "      <th>2</th>\n",
       "      <td>1643286479026757638</td>\n",
       "      <td>2023-04-04 16:16:42+00:00</td>\n",
       "      <td>@OnlinePalEng Your usual BS. Her terrorist son...</td>\n",
       "    </tr>\n",
       "    <tr>\n",
       "      <th>3</th>\n",
       "      <td>1643286478691393538</td>\n",
       "      <td>2023-04-04 16:16:41+00:00</td>\n",
       "      <td>@Reuters Their comrade was a terrorist who mur...</td>\n",
       "    </tr>\n",
       "    <tr>\n",
       "      <th>4</th>\n",
       "      <td>1643286478653382656</td>\n",
       "      <td>2023-04-04 16:16:41+00:00</td>\n",
       "      <td>RT @MattWalshBlog: I know we're focused on the...</td>\n",
       "    </tr>\n",
       "  </tbody>\n",
       "</table>\n",
       "</div>"
      ],
      "text/plain": [
       "              Tweet Id                  Datetime  \\\n",
       "0  1643286479374827521 2023-04-04 16:16:42+00:00   \n",
       "1  1643286479328931840 2023-04-04 16:16:42+00:00   \n",
       "2  1643286479026757638 2023-04-04 16:16:42+00:00   \n",
       "3  1643286478691393538 2023-04-04 16:16:41+00:00   \n",
       "4  1643286478653382656 2023-04-04 16:16:41+00:00   \n",
       "\n",
       "                                               tweet  \n",
       "0  RT @business: Former New Zealand PM Jacinda Ar...  \n",
       "1  @zoo_bear @DelhiPolice Self defence is not pro...  \n",
       "2  @OnlinePalEng Your usual BS. Her terrorist son...  \n",
       "3  @Reuters Their comrade was a terrorist who mur...  \n",
       "4  RT @MattWalshBlog: I know we're focused on the...  "
      ]
     },
     "execution_count": 26,
     "metadata": {},
     "output_type": "execute_result"
    }
   ],
   "source": [
    "tweets_df.head() # display top 5 rows"
   ]
  },
  {
   "cell_type": "code",
   "execution_count": 27,
   "id": "f34d74f0",
   "metadata": {},
   "outputs": [],
   "source": [
    "# call clean_tweet func & apply it on column tweet to remove special characters \n",
    "tweets_df[\"clean_text\"] = tweets_df[\"tweet\"].apply(lambda tweet: clean_tweet(tweet))"
   ]
  },
  {
   "cell_type": "code",
   "execution_count": 28,
   "id": "126e4555",
   "metadata": {},
   "outputs": [
    {
     "data": {
      "text/html": [
       "<div>\n",
       "<style scoped>\n",
       "    .dataframe tbody tr th:only-of-type {\n",
       "        vertical-align: middle;\n",
       "    }\n",
       "\n",
       "    .dataframe tbody tr th {\n",
       "        vertical-align: top;\n",
       "    }\n",
       "\n",
       "    .dataframe thead th {\n",
       "        text-align: right;\n",
       "    }\n",
       "</style>\n",
       "<table border=\"1\" class=\"dataframe\">\n",
       "  <thead>\n",
       "    <tr style=\"text-align: right;\">\n",
       "      <th></th>\n",
       "      <th>Tweet Id</th>\n",
       "      <th>Datetime</th>\n",
       "      <th>tweet</th>\n",
       "      <th>clean_text</th>\n",
       "    </tr>\n",
       "  </thead>\n",
       "  <tbody>\n",
       "    <tr>\n",
       "      <th>0</th>\n",
       "      <td>1643286479374827521</td>\n",
       "      <td>2023-04-04 16:16:42+00:00</td>\n",
       "      <td>RT @business: Former New Zealand PM Jacinda Ar...</td>\n",
       "      <td>RT Former New Zealand PM Jacinda Ardern will l...</td>\n",
       "    </tr>\n",
       "    <tr>\n",
       "      <th>1</th>\n",
       "      <td>1643286479328931840</td>\n",
       "      <td>2023-04-04 16:16:42+00:00</td>\n",
       "      <td>@zoo_bear @DelhiPolice Self defence is not pro...</td>\n",
       "      <td>bear Self defence is not provocation ask any t...</td>\n",
       "    </tr>\n",
       "    <tr>\n",
       "      <th>2</th>\n",
       "      <td>1643286479026757638</td>\n",
       "      <td>2023-04-04 16:16:42+00:00</td>\n",
       "      <td>@OnlinePalEng Your usual BS. Her terrorist son...</td>\n",
       "      <td>Your usual BS Her terrorist son was killed bec...</td>\n",
       "    </tr>\n",
       "    <tr>\n",
       "      <th>3</th>\n",
       "      <td>1643286478691393538</td>\n",
       "      <td>2023-04-04 16:16:41+00:00</td>\n",
       "      <td>@Reuters Their comrade was a terrorist who mur...</td>\n",
       "      <td>Their comrade was a terrorist who murdered six...</td>\n",
       "    </tr>\n",
       "    <tr>\n",
       "      <th>4</th>\n",
       "      <td>1643286478653382656</td>\n",
       "      <td>2023-04-04 16:16:41+00:00</td>\n",
       "      <td>RT @MattWalshBlog: I know we're focused on the...</td>\n",
       "      <td>RT I know we re focused on the Trump stuff whi...</td>\n",
       "    </tr>\n",
       "  </tbody>\n",
       "</table>\n",
       "</div>"
      ],
      "text/plain": [
       "              Tweet Id                  Datetime  \\\n",
       "0  1643286479374827521 2023-04-04 16:16:42+00:00   \n",
       "1  1643286479328931840 2023-04-04 16:16:42+00:00   \n",
       "2  1643286479026757638 2023-04-04 16:16:42+00:00   \n",
       "3  1643286478691393538 2023-04-04 16:16:41+00:00   \n",
       "4  1643286478653382656 2023-04-04 16:16:41+00:00   \n",
       "\n",
       "                                               tweet  \\\n",
       "0  RT @business: Former New Zealand PM Jacinda Ar...   \n",
       "1  @zoo_bear @DelhiPolice Self defence is not pro...   \n",
       "2  @OnlinePalEng Your usual BS. Her terrorist son...   \n",
       "3  @Reuters Their comrade was a terrorist who mur...   \n",
       "4  RT @MattWalshBlog: I know we're focused on the...   \n",
       "\n",
       "                                          clean_text  \n",
       "0  RT Former New Zealand PM Jacinda Ardern will l...  \n",
       "1  bear Self defence is not provocation ask any t...  \n",
       "2  Your usual BS Her terrorist son was killed bec...  \n",
       "3  Their comrade was a terrorist who murdered six...  \n",
       "4  RT I know we re focused on the Trump stuff whi...  "
      ]
     },
     "execution_count": 28,
     "metadata": {},
     "output_type": "execute_result"
    }
   ],
   "source": [
    "tweets_df.head()"
   ]
  },
  {
   "cell_type": "code",
   "execution_count": 29,
   "id": "13915dac",
   "metadata": {},
   "outputs": [
    {
     "name": "stderr",
     "output_type": "stream",
     "text": [
      "[nltk_data] Downloading package vader_lexicon to\n",
      "[nltk_data]     C:\\Users\\khatr\\AppData\\Roaming\\nltk_data...\n",
      "[nltk_data]   Package vader_lexicon is already up-to-date!\n"
     ]
    }
   ],
   "source": [
    "# nltk lib. has vader lexicon sub lib. which has SentimentIntensityAnalyzer func. \n",
    "#SentimentIntensityAnalyzer func runs the entire NLP pipeline to do sentiment analysis of any sentence  \n",
    "nltk.download(\"vader_lexicon\")\n",
    "from nltk.sentiment.vader import SentimentIntensityAnalyzer\n",
    "sid = SentimentIntensityAnalyzer()  # initialise SentimentIntensityAnalyzer func "
   ]
  },
  {
   "cell_type": "code",
   "execution_count": 30,
   "id": "0824bfeb",
   "metadata": {},
   "outputs": [
    {
     "data": {
      "text/html": [
       "<div>\n",
       "<style scoped>\n",
       "    .dataframe tbody tr th:only-of-type {\n",
       "        vertical-align: middle;\n",
       "    }\n",
       "\n",
       "    .dataframe tbody tr th {\n",
       "        vertical-align: top;\n",
       "    }\n",
       "\n",
       "    .dataframe thead th {\n",
       "        text-align: right;\n",
       "    }\n",
       "</style>\n",
       "<table border=\"1\" class=\"dataframe\">\n",
       "  <thead>\n",
       "    <tr style=\"text-align: right;\">\n",
       "      <th></th>\n",
       "      <th>Tweet Id</th>\n",
       "      <th>Datetime</th>\n",
       "      <th>tweet</th>\n",
       "      <th>clean_text</th>\n",
       "      <th>score</th>\n",
       "    </tr>\n",
       "  </thead>\n",
       "  <tbody>\n",
       "    <tr>\n",
       "      <th>0</th>\n",
       "      <td>1643286479374827521</td>\n",
       "      <td>2023-04-04 16:16:42+00:00</td>\n",
       "      <td>RT @business: Former New Zealand PM Jacinda Ar...</td>\n",
       "      <td>RT Former New Zealand PM Jacinda Ardern will l...</td>\n",
       "      <td>{'neg': 0.292, 'neu': 0.542, 'pos': 0.166, 'co...</td>\n",
       "    </tr>\n",
       "    <tr>\n",
       "      <th>1</th>\n",
       "      <td>1643286479328931840</td>\n",
       "      <td>2023-04-04 16:16:42+00:00</td>\n",
       "      <td>@zoo_bear @DelhiPolice Self defence is not pro...</td>\n",
       "      <td>bear Self defence is not provocation ask any t...</td>\n",
       "      <td>{'neg': 0.333, 'neu': 0.567, 'pos': 0.099, 'co...</td>\n",
       "    </tr>\n",
       "    <tr>\n",
       "      <th>2</th>\n",
       "      <td>1643286479026757638</td>\n",
       "      <td>2023-04-04 16:16:42+00:00</td>\n",
       "      <td>@OnlinePalEng Your usual BS. Her terrorist son...</td>\n",
       "      <td>Your usual BS Her terrorist son was killed bec...</td>\n",
       "      <td>{'neg': 0.397, 'neu': 0.603, 'pos': 0.0, 'comp...</td>\n",
       "    </tr>\n",
       "    <tr>\n",
       "      <th>3</th>\n",
       "      <td>1643286478691393538</td>\n",
       "      <td>2023-04-04 16:16:41+00:00</td>\n",
       "      <td>@Reuters Their comrade was a terrorist who mur...</td>\n",
       "      <td>Their comrade was a terrorist who murdered six...</td>\n",
       "      <td>{'neg': 0.371, 'neu': 0.531, 'pos': 0.098, 'co...</td>\n",
       "    </tr>\n",
       "    <tr>\n",
       "      <th>4</th>\n",
       "      <td>1643286478653382656</td>\n",
       "      <td>2023-04-04 16:16:41+00:00</td>\n",
       "      <td>RT @MattWalshBlog: I know we're focused on the...</td>\n",
       "      <td>RT I know we re focused on the Trump stuff whi...</td>\n",
       "      <td>{'neg': 0.236, 'neu': 0.649, 'pos': 0.115, 'co...</td>\n",
       "    </tr>\n",
       "  </tbody>\n",
       "</table>\n",
       "</div>"
      ],
      "text/plain": [
       "              Tweet Id                  Datetime  \\\n",
       "0  1643286479374827521 2023-04-04 16:16:42+00:00   \n",
       "1  1643286479328931840 2023-04-04 16:16:42+00:00   \n",
       "2  1643286479026757638 2023-04-04 16:16:42+00:00   \n",
       "3  1643286478691393538 2023-04-04 16:16:41+00:00   \n",
       "4  1643286478653382656 2023-04-04 16:16:41+00:00   \n",
       "\n",
       "                                               tweet  \\\n",
       "0  RT @business: Former New Zealand PM Jacinda Ar...   \n",
       "1  @zoo_bear @DelhiPolice Self defence is not pro...   \n",
       "2  @OnlinePalEng Your usual BS. Her terrorist son...   \n",
       "3  @Reuters Their comrade was a terrorist who mur...   \n",
       "4  RT @MattWalshBlog: I know we're focused on the...   \n",
       "\n",
       "                                          clean_text  \\\n",
       "0  RT Former New Zealand PM Jacinda Ardern will l...   \n",
       "1  bear Self defence is not provocation ask any t...   \n",
       "2  Your usual BS Her terrorist son was killed bec...   \n",
       "3  Their comrade was a terrorist who murdered six...   \n",
       "4  RT I know we re focused on the Trump stuff whi...   \n",
       "\n",
       "                                               score  \n",
       "0  {'neg': 0.292, 'neu': 0.542, 'pos': 0.166, 'co...  \n",
       "1  {'neg': 0.333, 'neu': 0.567, 'pos': 0.099, 'co...  \n",
       "2  {'neg': 0.397, 'neu': 0.603, 'pos': 0.0, 'comp...  \n",
       "3  {'neg': 0.371, 'neu': 0.531, 'pos': 0.098, 'co...  \n",
       "4  {'neg': 0.236, 'neu': 0.649, 'pos': 0.115, 'co...  "
      ]
     },
     "execution_count": 30,
     "metadata": {},
     "output_type": "execute_result"
    }
   ],
   "source": [
    "# apply SentimentIntensityAnalyzer func on column clean_text\n",
    "tweets_df[\"score\"] = tweets_df[\"clean_text\"].apply(lambda review:sid.polarity_scores(review))\n",
    "tweets_df.head()"
   ]
  },
  {
   "cell_type": "code",
   "execution_count": 31,
   "id": "1ffe2d90",
   "metadata": {},
   "outputs": [],
   "source": [
    "# compound score represents the total sentiment of a tweet. So, retrieve compound score from the column score\n",
    "tweets_df[\"compound\"] = tweets_df[\"score\"].apply(lambda d:d[\"compound\"])\n",
    "\n",
    "# call get_tweet_sentiment func & apply it on column compound to do sentiment analysis of a tweet \n",
    "tweets_df[\"sentiment\"] = tweets_df[\"compound\"].apply(lambda  score : get_tweet_sentiment(score))\n",
    "        \n",
    "del tweets_df[\"score\"]    # delete score column\n",
    "del tweets_df[\"compound\"]  # delete compound column "
   ]
  },
  {
   "cell_type": "code",
   "execution_count": 32,
   "id": "2cf6d852",
   "metadata": {},
   "outputs": [
    {
     "data": {
      "text/html": [
       "<div>\n",
       "<style scoped>\n",
       "    .dataframe tbody tr th:only-of-type {\n",
       "        vertical-align: middle;\n",
       "    }\n",
       "\n",
       "    .dataframe tbody tr th {\n",
       "        vertical-align: top;\n",
       "    }\n",
       "\n",
       "    .dataframe thead th {\n",
       "        text-align: right;\n",
       "    }\n",
       "</style>\n",
       "<table border=\"1\" class=\"dataframe\">\n",
       "  <thead>\n",
       "    <tr style=\"text-align: right;\">\n",
       "      <th></th>\n",
       "      <th>Tweet Id</th>\n",
       "      <th>Datetime</th>\n",
       "      <th>tweet</th>\n",
       "      <th>clean_text</th>\n",
       "      <th>sentiment</th>\n",
       "    </tr>\n",
       "  </thead>\n",
       "  <tbody>\n",
       "    <tr>\n",
       "      <th>0</th>\n",
       "      <td>1643286479374827521</td>\n",
       "      <td>2023-04-04 16:16:42+00:00</td>\n",
       "      <td>RT @business: Former New Zealand PM Jacinda Ar...</td>\n",
       "      <td>RT Former New Zealand PM Jacinda Ardern will l...</td>\n",
       "      <td>negative</td>\n",
       "    </tr>\n",
       "    <tr>\n",
       "      <th>1</th>\n",
       "      <td>1643286479328931840</td>\n",
       "      <td>2023-04-04 16:16:42+00:00</td>\n",
       "      <td>@zoo_bear @DelhiPolice Self defence is not pro...</td>\n",
       "      <td>bear Self defence is not provocation ask any t...</td>\n",
       "      <td>negative</td>\n",
       "    </tr>\n",
       "    <tr>\n",
       "      <th>2</th>\n",
       "      <td>1643286479026757638</td>\n",
       "      <td>2023-04-04 16:16:42+00:00</td>\n",
       "      <td>@OnlinePalEng Your usual BS. Her terrorist son...</td>\n",
       "      <td>Your usual BS Her terrorist son was killed bec...</td>\n",
       "      <td>negative</td>\n",
       "    </tr>\n",
       "    <tr>\n",
       "      <th>3</th>\n",
       "      <td>1643286478691393538</td>\n",
       "      <td>2023-04-04 16:16:41+00:00</td>\n",
       "      <td>@Reuters Their comrade was a terrorist who mur...</td>\n",
       "      <td>Their comrade was a terrorist who murdered six...</td>\n",
       "      <td>negative</td>\n",
       "    </tr>\n",
       "    <tr>\n",
       "      <th>4</th>\n",
       "      <td>1643286478653382656</td>\n",
       "      <td>2023-04-04 16:16:41+00:00</td>\n",
       "      <td>RT @MattWalshBlog: I know we're focused on the...</td>\n",
       "      <td>RT I know we re focused on the Trump stuff whi...</td>\n",
       "      <td>negative</td>\n",
       "    </tr>\n",
       "  </tbody>\n",
       "</table>\n",
       "</div>"
      ],
      "text/plain": [
       "              Tweet Id                  Datetime  \\\n",
       "0  1643286479374827521 2023-04-04 16:16:42+00:00   \n",
       "1  1643286479328931840 2023-04-04 16:16:42+00:00   \n",
       "2  1643286479026757638 2023-04-04 16:16:42+00:00   \n",
       "3  1643286478691393538 2023-04-04 16:16:41+00:00   \n",
       "4  1643286478653382656 2023-04-04 16:16:41+00:00   \n",
       "\n",
       "                                               tweet  \\\n",
       "0  RT @business: Former New Zealand PM Jacinda Ar...   \n",
       "1  @zoo_bear @DelhiPolice Self defence is not pro...   \n",
       "2  @OnlinePalEng Your usual BS. Her terrorist son...   \n",
       "3  @Reuters Their comrade was a terrorist who mur...   \n",
       "4  RT @MattWalshBlog: I know we're focused on the...   \n",
       "\n",
       "                                          clean_text sentiment  \n",
       "0  RT Former New Zealand PM Jacinda Ardern will l...  negative  \n",
       "1  bear Self defence is not provocation ask any t...  negative  \n",
       "2  Your usual BS Her terrorist son was killed bec...  negative  \n",
       "3  Their comrade was a terrorist who murdered six...  negative  \n",
       "4  RT I know we re focused on the Trump stuff whi...  negative  "
      ]
     },
     "execution_count": 32,
     "metadata": {},
     "output_type": "execute_result"
    }
   ],
   "source": [
    "tweets_df.head()"
   ]
  },
  {
   "cell_type": "code",
   "execution_count": 33,
   "id": "2951c942",
   "metadata": {},
   "outputs": [
    {
     "name": "stderr",
     "output_type": "stream",
     "text": [
      "c:\\Users\\khatr\\anaconda3\\lib\\site-packages\\seaborn\\_decorators.py:36: FutureWarning: Pass the following variable as a keyword arg: x. From version 0.12, the only valid positional argument will be `data`, and passing other arguments without an explicit keyword will result in an error or misinterpretation.\n",
      "  warnings.warn(\n"
     ]
    },
    {
     "data": {
      "text/plain": [
       "<AxesSubplot:xlabel='sentiment', ylabel='count'>"
      ]
     },
     "execution_count": 33,
     "metadata": {},
     "output_type": "execute_result"
    },
    {
     "data": {
      "image/png": "[encoded data removed]",
      "text/plain": [
       "<Figure size 640x480 with 1 Axes>"
      ]
     },
     "metadata": {},
     "output_type": "display_data"
    }
   ],
   "source": [
    "import seaborn as sns\n",
    "sns.countplot(tweets_df['sentiment'])   # to count no. of positive, negative & neutral tweets "
   ]
  },
  {
   "cell_type": "markdown",
   "id": "6777b977",
   "metadata": {},
   "source": [
    "Out of 1000 tweets, 80% of the tweets are negative about terrorist. It means our model is performing good "
   ]
  }
 ],
 "metadata": {
  "kernelspec": {
   "display_name": "Python 3 (ipykernel)",
   "language": "python",
   "name": "python3"
  },
  "language_info": {
   "codemirror_mode": {
    "name": "ipython",
    "version": 3
   },
   "file_extension": ".py",
   "mimetype": "text/x-python",
   "name": "python",
   "nbconvert_exporter": "python",
   "pygments_lexer": "ipython3",
   "version": "3.9.13"
  }
 },
 "nbformat": 4,
 "nbformat_minor": 5
}
